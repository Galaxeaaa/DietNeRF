{
 "cells": [
  {
   "cell_type": "code",
   "execution_count": 1,
   "metadata": {},
   "outputs": [],
   "source": [
    "# %matplotlib widget"
   ]
  },
  {
   "cell_type": "code",
   "execution_count": 2,
   "metadata": {},
   "outputs": [],
   "source": [
    "import numpy as np\n",
    "import torch\n",
    "import os\n",
    "import glob"
   ]
  },
  {
   "cell_type": "code",
   "execution_count": 3,
   "metadata": {},
   "outputs": [],
   "source": [
    "import matplotlib\n",
    "import matplotlib.pyplot as plt\n",
    "from mpl_toolkits.mplot3d import Axes3D"
   ]
  },
  {
   "cell_type": "code",
   "execution_count": 4,
   "metadata": {},
   "outputs": [],
   "source": [
    "PROBE_DIR = '/home/ajay/sharedajay/clip/nerf/nerf-pytorch/logs/probe/'"
   ]
  },
  {
   "cell_type": "markdown",
   "metadata": {},
   "source": [
    "# Load CLIP embeddings"
   ]
  },
  {
   "cell_type": "code",
   "execution_count": 5,
   "metadata": {},
   "outputs": [
    {
     "name": "stdout",
     "output_type": "stream",
     "text": [
      "emb_blender_paper_chair_clip_vit.pth\n",
      "emb_blender_paper_drums_clip_vit.pth\n",
      "emb_blender_paper_ficus_clip_vit.pth\n",
      "emb_blender_paper_hotdog_clip_vit.pth\n",
      "emb_blender_paper_lego_clip_vit.pth\n",
      "emb_blender_paper_materials_clip_vit.pth\n",
      "emb_blender_paper_mic_clip_vit.pth\n",
      "emb_blender_paper_ship_clip_vit.pth\n"
     ]
    }
   ],
   "source": [
    "!ls -1 /home/ajay/sharedajay/clip/nerf/nerf-pytorch/logs/probe/"
   ]
  },
  {
   "cell_type": "code",
   "execution_count": 6,
   "metadata": {},
   "outputs": [],
   "source": [
    "embedding_paths = {\n",
    "    \"chair\": \"emb_blender_paper_chair_clip_vit.pth\",\n",
    "    \"drums\": \"emb_blender_paper_drums_clip_vit.pth\",\n",
    "    \"ficus\": \"emb_blender_paper_ficus_clip_vit.pth\",\n",
    "    \"hotdog\": \"emb_blender_paper_hotdog_clip_vit.pth\",\n",
    "    \"lego\": \"emb_blender_paper_lego_clip_vit.pth\",\n",
    "    \"materials\": \"emb_blender_paper_materials_clip_vit.pth\",\n",
    "    \"mic\": \"emb_blender_paper_mic_clip_vit.pth\",\n",
    "    \"ship\": \"emb_blender_paper_ship_clip_vit.pth\",\n",
    "}"
   ]
  },
  {
   "cell_type": "code",
   "execution_count": 7,
   "metadata": {},
   "outputs": [],
   "source": [
    "embedding_paths = {\n",
    "    name: os.path.join(PROBE_DIR, path) for name, path in embedding_paths.items()\n",
    "}"
   ]
  },
  {
   "cell_type": "code",
   "execution_count": 8,
   "metadata": {},
   "outputs": [],
   "source": [
    "scenes = {\n",
    "    name: torch.load(path) for name, path in embedding_paths.items()\n",
    "}"
   ]
  },
  {
   "cell_type": "code",
   "execution_count": 9,
   "metadata": {},
   "outputs": [],
   "source": [
    "def pairwise_cosine_similarity(features):\n",
    "    assert features.ndim == 2  # [B, D]\n",
    "    norm = torch.norm(features, dim=1)\n",
    "    features_normalized = features / norm.unsqueeze(1)\n",
    "    similarity = features_normalized.mm(features_normalized.transpose(0, 1))\n",
    "    return similarity"
   ]
  },
  {
   "cell_type": "code",
   "execution_count": 10,
   "metadata": {},
   "outputs": [],
   "source": [
    "def paired_cosine_similarity(features1, features2):\n",
    "    assert features1.ndim == 2  # [B, D]\n",
    "    assert features2.ndim == 2  # [B, D]\n",
    "\n",
    "    norm1 = torch.norm(features1, dim=1)\n",
    "    features_normalized1 = features1 / norm1.unsqueeze(1)\n",
    "    \n",
    "    norm2 = torch.norm(features2, dim=1)\n",
    "    features_normalized2 = features2 / norm2.unsqueeze(1)\n",
    "\n",
    "    similarity = features_normalized1.mm(features_normalized2.transpose(0, 1))\n",
    "    return similarity"
   ]
  },
  {
   "cell_type": "code",
   "execution_count": 11,
   "metadata": {},
   "outputs": [],
   "source": [
    "def compare_scenes(sd1, sd2):\n",
    "    embedding1 = torch.from_numpy(sd1['embedding']).float()\n",
    "    embedding2 = torch.from_numpy(sd2['embedding']).float()\n",
    "    similarity = paired_cosine_similarity(embedding1, embedding2)\n",
    "    \n",
    "    xyz1 = torch.from_numpy(sd1['poses'][:, :-1, 3]).float()\n",
    "    xyz2 = torch.from_numpy(sd2['poses'][:, :-1, 3]).float()\n",
    "    diffs = xyz1.unsqueeze(0) - xyz2.unsqueeze(1)\n",
    "    pose_distances = torch.sqrt((diffs ** 2).sum(dim=-1))\n",
    "\n",
    "    return similarity, pose_distances"
   ]
  },
  {
   "cell_type": "code",
   "execution_count": 12,
   "metadata": {},
   "outputs": [],
   "source": [
    "# def make_histogram_plot(axsimilarity, pose_distances, cmap = 'Greens', bins = 30, ylim = [0, 1]):\n",
    "#     fig, axes = plt.subplots(1, 2, sharey=True, figsize=(6, 3))\n",
    "#     axes[0].hist2d(x=pose_distances.flatten().cpu().numpy(),\n",
    "#                    y=similarity.flatten().cpu().numpy(),\n",
    "#                    cmap=cmap, bins=bins, range=[[0, 8], ylim])\n",
    "#     axes[0].set_ylabel('Cosine similarity of\\nCLIP ViT embeddings')\n",
    "#     axes[0].set_xlabel('Euclidean distance\\nbetween camera origins')\n",
    "\n",
    "#     axes[1].hist2d(x=pose_similiarty.flatten().cpu().numpy(),\n",
    "#                    y=similarity.flatten().cpu().numpy(),\n",
    "#                    cmap=cmap, bins=bins, range=[[-1, 1], ylim])\n",
    "#     # axes[1].set_ylabel('Cosine similarity of CLIP ViT embeddings')\n",
    "#     axes[1].set_xlabel('Cosine similarity\\nof camera origins')\n",
    "\n",
    "#     axes[1].set_ylim(ylim)\n",
    "#     axes[1].set_xlim([-1, 1])\n",
    "\n",
    "#     plt.tight_layout()\n",
    "#     os.makedirs(\"files/\", exist_ok=True)\n",
    "#     plt.savefig(\"files/representation_similarity_clip_vit.pdf\")\n",
    "\n",
    "#     # plt.title('Camera position versus representation similarity')"
   ]
  },
  {
   "cell_type": "code",
   "execution_count": 13,
   "metadata": {},
   "outputs": [
    {
     "data": {
      "text/plain": [
       "(138, 4, 4)"
      ]
     },
     "execution_count": 13,
     "metadata": {},
     "output_type": "execute_result"
    }
   ],
   "source": [
    "scenes[\"mic\"]['poses'].shape"
   ]
  },
  {
   "cell_type": "code",
   "execution_count": 14,
   "metadata": {},
   "outputs": [],
   "source": [
    "scene_list = sorted(scenes.keys())\n",
    "sims = []\n",
    "for scene1 in scene_list:\n",
    "    sims.append([compare_scenes(scenes[scene1], scenes[scene2]) for scene2 in scene_list])"
   ]
  },
  {
   "cell_type": "code",
   "execution_count": 15,
   "metadata": {},
   "outputs": [],
   "source": [
    "diag_similarity = []\n",
    "for i in range(8):\n",
    "    similarity, _ = sims[i][i]\n",
    "    diag_similarity.append(similarity)\n",
    "diag_similarity = torch.stack(diag_similarity).flatten().numpy()"
   ]
  },
  {
   "cell_type": "code",
   "execution_count": 16,
   "metadata": {},
   "outputs": [],
   "source": [
    "off_diag_similarity = []\n",
    "for i in range(8):\n",
    "    for j in range(i):\n",
    "        similarity, _ = sims[i][j]\n",
    "        off_diag_similarity.append(similarity)\n",
    "off_diag_similarity = torch.stack(off_diag_similarity).flatten().numpy()"
   ]
  },
  {
   "cell_type": "code",
   "execution_count": 17,
   "metadata": {},
   "outputs": [
    {
     "data": {
      "image/png": "[encoded data removed]",
      "text/plain": [
       "<Figure size 324x180 with 1 Axes>"
      ]
     },
     "metadata": {
      "needs_background": "light"
     },
     "output_type": "display_data"
    }
   ],
   "source": [
    "fig, axes = plt.subplots(1, 1, sharey=True, figsize=(4.5, 2.5))\n",
    "axes.hist(diag_similarity, density=True, bins=100, color=\"green\", alpha=0.5, label=\"Within scene\")\n",
    "axes.hist(off_diag_similarity, density=True, bins=100, color=\"red\", alpha=0.5, label=\"Across scenes\")\n",
    "# axes[0].set_title(\"Within a scene\")\n",
    "axes.set_ylabel(\"Normalized frequency\")\n",
    "axes.set_xlabel(\"Cosine similarity of CLIP ViT embeddings\")\n",
    "axes.set_xlim([0.2, 1])\n",
    "axes.legend()\n",
    "plt.tight_layout()\n",
    "plt.savefig(\"files/cosine_sim_frequency.pdf\")\n",
    "plt.show()"
   ]
  },
  {
   "cell_type": "code",
   "execution_count": 18,
   "metadata": {},
   "outputs": [
    {
     "data": {
      "image/png": "[encoded data removed]",
      "text/plain": [
       "<Figure size 432x216 with 2 Axes>"
      ]
     },
     "metadata": {
      "needs_background": "light"
     },
     "output_type": "display_data"
    }
   ],
   "source": [
    "fig, axes = plt.subplots(1, 2, sharey=True, figsize=(6, 3))\n",
    "axes[0].hist(diag_similarity, density=True, bins=100, color=\"green\", alpha=0.5)\n",
    "axes[0].set_title(\"Within a scene\")\n",
    "axes[0].set_ylabel(\"Normalized frequency\")\n",
    "axes[0].set_xlabel(\"Cosine similarity\")\n",
    "axes[0].set_xlim([0, 1])\n",
    "\n",
    "axes[1].set_title(\"Across scenes\")\n",
    "axes[1].hist(off_diag_similarity, density=True, bins=100, color=\"red\", alpha=0.5)\n",
    "axes[1].set_xlabel(\"Cosine similarity\")\n",
    "axes[1].set_xlim([0, 1])\n",
    "plt.tight_layout()\n",
    "plt.savefig(\"files/cosine_sim_frequency_diff.pdf\")\n",
    "plt.show()"
   ]
  },
  {
   "cell_type": "code",
   "execution_count": 19,
   "metadata": {},
   "outputs": [
    {
     "data": {
      "image/png": "[encoded data removed]",
      "text/plain": [
       "<Figure size 936x936 with 64 Axes>"
      ]
     },
     "metadata": {
      "needs_background": "light"
     },
     "output_type": "display_data"
    }
   ],
   "source": [
    "cmap_diag = 'Greens'\n",
    "cmap_other = 'Reds'\n",
    "bins = 30\n",
    "ylim = [0, 1]\n",
    "\n",
    "fig, axes = plt.subplots(len(sims), len(sims[0]), sharex=True, sharey=True, figsize=(13, 13))\n",
    "for i in range(len(sims)):\n",
    "    for j in range(len(sims[0])):\n",
    "        if i<j:\n",
    "            axes[i, j].axis('off')\n",
    "        else:\n",
    "            similarity, pose_distances = sims[i][j]\n",
    "            axes[i, j].hist2d(x=pose_distances.flatten().cpu().numpy(),\n",
    "                              y=similarity.flatten().cpu().numpy(),\n",
    "                              cmap=cmap_diag if i == j else cmap_other, bins=bins, range=[[0, 8], ylim])\n",
    "#             if j == 0:\n",
    "#                 axes[i, j].set_ylabel('Cosine similarity of\\nCLIP ViT embeddings')\n",
    "#             if i == len(sims) - 1:\n",
    "#                 axes[i, j].set_xlabel('Euclidean distance\\nbetween camera origins')\n",
    "#             axes[i, j].set_title(f\"{scene_list[i]} vs {scene_list[j]}\")\n",
    "\n",
    "fig.text(0.5, 0.04, 'Distance between camera origins', ha='center')\n",
    "fig.text(0.04, 0.5, 'Cosine similarity of CLIP ViT embeddings', va='center', rotation='vertical')\n",
    "\n",
    "# axes[1].hist2d(x=pose_similiarty.flatten().cpu().numpy(),\n",
    "#                y=similarity.flatten().cpu().numpy(),\n",
    "#                cmap=cmap, bins=bins, range=[[-1, 1], ylim])\n",
    "# axes[1].set_ylabel('Cosine similarity of CLIP ViT embeddings')\n",
    "# axes[1].set_xlabel('Cosine similarity\\nof camera origins')\n",
    "\n",
    "# axes[1].set_ylim(ylim)\n",
    "# axes[1].set_xlim([-1, 1])\n",
    "\n",
    "# plt.tight_layout()\n",
    "os.makedirs(\"files/\", exist_ok=True)\n",
    "plt.savefig(\"files/representation_similarity_clip_vit_triangle_big.pdf\")\n",
    "\n",
    "# plt.title('Camera position versus representation similarity')"
   ]
  },
  {
   "cell_type": "markdown",
   "metadata": {},
   "source": [
    "# Big grid"
   ]
  },
  {
   "cell_type": "code",
   "execution_count": 20,
   "metadata": {},
   "outputs": [],
   "source": [
    "# font = {'weight' : 'bold',\n",
    "#         'size'   : 16}\n",
    "\n",
    "# matplotlib.rc('font', **font)"
   ]
  },
  {
   "cell_type": "code",
   "execution_count": 47,
   "metadata": {},
   "outputs": [
    {
     "data": {
      "image/png": "[encoded data removed]",
      "text/plain": [
       "<Figure size 576x576 with 64 Axes>"
      ]
     },
     "metadata": {
      "needs_background": "light"
     },
     "output_type": "display_data"
    }
   ],
   "source": [
    "cmap_diag = 'Greens'\n",
    "cmap_other = 'Reds'\n",
    "bins = 32\n",
    "ylim = [0, 1]\n",
    "\n",
    "fig, axes = plt.subplots(len(sims), len(sims[0]), sharex=True, sharey=True, figsize=(8, 8))\n",
    "for i in range(len(sims)):\n",
    "    for j in range(len(sims[0])):\n",
    "        if i<j:\n",
    "            axes[i, j].axis('off')\n",
    "        else:\n",
    "            similarity, pose_distances = sims[i][j]\n",
    "            axes[i, j].hlines(similarity.mean().item(), xmin=0, xmax=8, linestyles='dotted', color='black')\n",
    "            axes[i, j].hist2d(x=pose_distances.flatten().cpu().numpy(),\n",
    "                              y=similarity.flatten().cpu().numpy(),\n",
    "                              cmap=cmap_diag if i == j else cmap_other, bins=bins, range=[[0, 8], ylim])\n",
    "            if j == 0:\n",
    "                axes[i, j].set_ylabel(f'{scene_list[i]}', fontsize='large')\n",
    "            if i == len(sims) - 1:\n",
    "                axes[i, j].set_xlabel(f'{scene_list[j]}', fontsize='large')\n",
    "            axes[i, j].set_xticks([0, 4, 8])\n",
    "#             axes[i, j].set_title(f\"{scene_list[i]} vs {scene_list[j]}\")\n",
    "\n",
    "fig.text(0.5, 0.03, 'Distance between camera origins', ha='center', fontsize='x-large')\n",
    "fig.text(0.02, 0.5, 'Cosine similarity of CLIP ViT embeddings', va='center', rotation='vertical', fontsize='x-large')\n",
    "\n",
    "# axes[1].hist2d(x=pose_similiarty.flatten().cpu().numpy(),\n",
    "#                y=similarity.flatten().cpu().numpy(),\n",
    "#                cmap=cmap, bins=bins, range=[[-1, 1], ylim])\n",
    "# axes[1].set_ylabel('Cosine similarity of CLIP ViT embeddings')\n",
    "# axes[1].set_xlabel('Cosine similarity\\nof camera origins')\n",
    "\n",
    "# axes[1].set_ylim(ylim)\n",
    "# axes[1].set_xlim([-1, 1])\n",
    "\n",
    "# plt.tight_layout()\n",
    "os.makedirs(\"files/\", exist_ok=True)\n",
    "plt.savefig(\"files/representation_similarity_clip_vit_triangle_big.pdf\")\n",
    "\n",
    "# plt.title('Camera position versus representation similarity')"
   ]
  },
  {
   "cell_type": "code",
   "execution_count": 42,
   "metadata": {},
   "outputs": [
    {
     "data": {
      "image/png": "[encoded data removed]",
      "text/plain": [
       "<Figure size 576x576 with 64 Axes>"
      ]
     },
     "metadata": {
      "needs_background": "light"
     },
     "output_type": "display_data"
    }
   ],
   "source": [
    "cmap_diag = 'Greens'\n",
    "cmap_other = 'Reds'\n",
    "bins = 32\n",
    "ylim = [0, 1]\n",
    "\n",
    "fig, axes = plt.subplots(len(sims), len(sims[0]), sharex=True, sharey=True, figsize=(8, 8))\n",
    "for i in range(len(sims)):\n",
    "    for j in range(len(sims[0])):\n",
    "        if i<j:\n",
    "            axes[i, j].axis('off')\n",
    "        else:\n",
    "            similarity, pose_distances = sims[i][j]\n",
    "            axes[i, j].vlines(similarity.mean().item(), ymin=ylim[0], ymax=40, linestyles='dashed', color='black')\n",
    "            axes[i, j].hist(similarity.flatten().cpu().numpy(),\n",
    "                            bins=bins, color='red' if i != j else 'green', alpha=0.8,\n",
    "                            density=True)\n",
    "#             axes[i, j].hist2d(x=pose_distances.flatten().cpu().numpy(),\n",
    "#                               y=similarity.flatten().cpu().numpy(),\n",
    "#                               cmap=cmap_diag if i == j else cmap_other, bins=bins, range=[[0, 8], ylim])\n",
    "            if j == 0:\n",
    "                axes[i, j].set_ylabel(f'{scene_list[i]}', fontsize='large')\n",
    "            if i == len(sims) - 1:\n",
    "                axes[i, j].set_xlabel(f'{scene_list[j]}', fontsize='large')\n",
    "            axes[i, j].set_ylim([0, 20])\n",
    "#             axes[i, j].set_xticks([0, 4, 8])\n",
    "#             axes[i, j].set_title(f\"{scene_list[i]} vs {scene_list[j]}\")\n",
    "\n",
    "fig.text(0.5, 0.03, 'Distance between camera origins', ha='center', fontsize='large')\n",
    "fig.text(0.03, 0.5, 'Cosine similarity of CLIP ViT embeddings', va='center', rotation='vertical', fontsize='large')\n",
    "\n",
    "# plt.tight_layout()\n",
    "os.makedirs(\"files/\", exist_ok=True)\n",
    "plt.savefig(\"files/representation_similarity_clip_vit_triangle_big_1d.pdf\")\n",
    "\n",
    "# plt.title('Camera position versus representation similarity')"
   ]
  },
  {
   "cell_type": "markdown",
   "metadata": {},
   "source": [
    "# Other"
   ]
  },
  {
   "cell_type": "code",
   "execution_count": 24,
   "metadata": {},
   "outputs": [
    {
     "data": {
      "application/vnd.jupyter.widget-view+json": {
       "model_id": "fff3f3ceeadc4035913765c5325dc424",
       "version_major": 2,
       "version_minor": 0
      },
      "text/plain": [
       "Canvas(toolbar=Toolbar(toolitems=[('Home', 'Reset original view', 'home', 'home'), ('Back', 'Back to previous …"
      ]
     },
     "metadata": {},
     "output_type": "display_data"
    }
   ],
   "source": [
    "cmap = 'Greens'\n",
    "bins = 30\n",
    "ylim = [0, 1]\n",
    "\n",
    "fig, axes = plt.subplots(1, 2, sharey=True, figsize=(6, 3))\n",
    "axes[0].hist2d(x=pose_distances.flatten().cpu().numpy(),\n",
    "               y=similarity.flatten().cpu().numpy(),\n",
    "               cmap=cmap, bins=bins, range=[[0, 8], ylim])\n",
    "axes[0].set_ylabel('Cosine similarity of\\nCLIP ViT embeddings')\n",
    "axes[0].set_xlabel('Euclidean distance\\nbetween camera origins')\n",
    "\n",
    "# axes[1].hist2d(x=pose_similiarty.flatten().cpu().numpy(),\n",
    "#                y=similarity.flatten().cpu().numpy(),\n",
    "#                cmap=cmap, bins=bins, range=[[-1, 1], ylim])\n",
    "# axes[1].set_ylabel('Cosine similarity of CLIP ViT embeddings')\n",
    "# axes[1].set_xlabel('Cosine similarity\\nof camera origins')\n",
    "\n",
    "# axes[1].set_ylim(ylim)\n",
    "# axes[1].set_xlim([-1, 1])\n",
    "\n",
    "plt.tight_layout()\n",
    "os.makedirs(\"files/\", exist_ok=True)\n",
    "plt.savefig(\"files/representation_similarity_clip_vit.pdf\")\n",
    "\n",
    "# plt.title('Camera position versus representation similarity')"
   ]
  },
  {
   "cell_type": "code",
   "execution_count": 44,
   "metadata": {},
   "outputs": [
    {
     "data": {
      "application/vnd.jupyter.widget-view+json": {
       "model_id": "e766783cd44b46128eee6fc91b41d07a",
       "version_major": 2,
       "version_minor": 0
      },
      "text/plain": [
       "Canvas(toolbar=Toolbar(toolitems=[('Home', 'Reset original view', 'home', 'home'), ('Back', 'Back to previous …"
      ]
     },
     "metadata": {},
     "output_type": "display_data"
    }
   ],
   "source": [
    "similarity, pose_distances = compare_scenes(scenes[\"lego\"], scenes[\"drums\"])\n",
    "plt.figure()\n",
    "plt.show()"
   ]
  },
  {
   "cell_type": "markdown",
   "metadata": {},
   "source": [
    "# Make histograms"
   ]
  },
  {
   "cell_type": "code",
   "execution_count": 22,
   "metadata": {},
   "outputs": [
    {
     "data": {
      "application/vnd.jupyter.widget-view+json": {
       "model_id": "4e21cd5dee6f42a9a71da0420bd422bf",
       "version_major": 2,
       "version_minor": 0
      },
      "text/plain": [
       "Canvas(toolbar=Toolbar(toolitems=[('Home', 'Reset original view', 'home', 'home'), ('Back', 'Back to previous …"
      ]
     },
     "metadata": {},
     "output_type": "display_data"
    }
   ],
   "source": [
    "cmap = 'Greens'\n",
    "bins = 30\n",
    "ylim = [0, 1]\n",
    "\n",
    "fig, axes = plt.subplots(1, 2, sharey=True, figsize=(6, 3))\n",
    "axes[0].hist2d(x=pose_distances.flatten().cpu().numpy(),\n",
    "               y=similarity.flatten().cpu().numpy(),\n",
    "               cmap=cmap, bins=bins, range=[[0, 8], ylim])\n",
    "axes[0].set_ylabel('Cosine similarity of\\nCLIP ViT embeddings')\n",
    "axes[0].set_xlabel('Euclidean distance\\nbetween camera origins')\n",
    "\n",
    "axes[1].hist2d(x=pose_similiarty.flatten().cpu().numpy(),\n",
    "               y=similarity.flatten().cpu().numpy(),\n",
    "               cmap=cmap, bins=bins, range=[[-1, 1], ylim])\n",
    "# axes[1].set_ylabel('Cosine similarity of CLIP ViT embeddings')\n",
    "axes[1].set_xlabel('Cosine similarity\\nof camera origins')\n",
    "\n",
    "axes[1].set_ylim(ylim)\n",
    "axes[1].set_xlim([-1, 1])\n",
    "\n",
    "plt.tight_layout()\n",
    "os.makedirs(\"files/\", exist_ok=True)\n",
    "plt.savefig(\"files/representation_similarity_clip_vit.pdf\")\n",
    "\n",
    "# plt.title('Camera position versus representation similarity')"
   ]
  },
  {
   "cell_type": "markdown",
   "metadata": {},
   "source": [
    "# Pose similiarity (ground truth)"
   ]
  },
  {
   "cell_type": "code",
   "execution_count": 9,
   "metadata": {},
   "outputs": [
    {
     "data": {
      "text/plain": [
       "array([[-9.9990219e-01,  4.1922452e-03, -1.3345719e-02, -5.3798322e-02],\n",
       "       [-1.3988681e-02, -2.9965907e-01,  9.5394367e-01,  3.8454704e+00],\n",
       "       [-4.6566129e-10,  9.5403719e-01,  2.9968831e-01,  1.2080823e+00],\n",
       "       [ 0.0000000e+00,  0.0000000e+00,  0.0000000e+00,  1.0000000e+00]],\n",
       "      dtype=float32)"
      ]
     },
     "execution_count": 9,
     "metadata": {},
     "output_type": "execute_result"
    }
   ],
   "source": [
    "scene_data['poses'][0]"
   ]
  },
  {
   "cell_type": "code",
   "execution_count": 10,
   "metadata": {},
   "outputs": [],
   "source": [
    "poses = torch.from_numpy(scene_data['poses']).float()"
   ]
  },
  {
   "cell_type": "code",
   "execution_count": 11,
   "metadata": {},
   "outputs": [
    {
     "data": {
      "application/vnd.jupyter.widget-view+json": {
       "model_id": "f25922f80afc4dc3b096789a906d4aac",
       "version_major": 2,
       "version_minor": 0
      },
      "text/plain": [
       "Canvas(toolbar=Toolbar(toolitems=[('Home', 'Reset original view', 'home', 'home'), ('Back', 'Back to previous …"
      ]
     },
     "metadata": {},
     "output_type": "display_data"
    }
   ],
   "source": [
    "fig = plt.figure()\n",
    "ax = fig.add_subplot(111, projection='3d')\n",
    "ax.scatter(poses[:, 0, -1], poses[:, 1, -1], poses[:, 2, -1])\n",
    "plt.title('Camera origins')\n",
    "fig.show()"
   ]
  },
  {
   "cell_type": "code",
   "execution_count": 12,
   "metadata": {},
   "outputs": [],
   "source": [
    "xyz = poses[:, :-1, 3]\n",
    "diffs = xyz.unsqueeze(0) - xyz.unsqueeze(1)\n",
    "pose_distances = torch.sqrt((diffs ** 2).sum(dim=-1))"
   ]
  },
  {
   "cell_type": "code",
   "execution_count": 13,
   "metadata": {},
   "outputs": [],
   "source": [
    "thetas = torch.atan2(xyz[:, 1], xyz[:, 0])"
   ]
  },
  {
   "cell_type": "code",
   "execution_count": 14,
   "metadata": {},
   "outputs": [],
   "source": [
    "pose_similiarty = pairwise_cosine_similarity(xyz)"
   ]
  },
  {
   "cell_type": "code",
   "execution_count": 15,
   "metadata": {},
   "outputs": [
    {
     "data": {
      "application/vnd.jupyter.widget-view+json": {
       "model_id": "4ff7575764c84ae8ac141fdaf2149f07",
       "version_major": 2,
       "version_minor": 0
      },
      "text/plain": [
       "Canvas(toolbar=Toolbar(toolitems=[('Home', 'Reset original view', 'home', 'home'), ('Back', 'Back to previous …"
      ]
     },
     "metadata": {},
     "output_type": "display_data"
    },
    {
     "data": {
      "text/plain": [
       "<matplotlib.colorbar.Colorbar at 0x7f5b5c961460>"
      ]
     },
     "execution_count": 15,
     "metadata": {},
     "output_type": "execute_result"
    }
   ],
   "source": [
    "plt.figure()\n",
    "plt.imshow(pose_similiarty)\n",
    "plt.colorbar()"
   ]
  },
  {
   "cell_type": "code",
   "execution_count": 16,
   "metadata": {},
   "outputs": [
    {
     "data": {
      "application/vnd.jupyter.widget-view+json": {
       "model_id": "ea9edb3679d54b19b70bf3b6350e544d",
       "version_major": 2,
       "version_minor": 0
      },
      "text/plain": [
       "Canvas(toolbar=Toolbar(toolitems=[('Home', 'Reset original view', 'home', 'home'), ('Back', 'Back to previous …"
      ]
     },
     "metadata": {},
     "output_type": "display_data"
    },
    {
     "data": {
      "text/plain": [
       "<matplotlib.colorbar.Colorbar at 0x7f5b5c9095b0>"
      ]
     },
     "execution_count": 16,
     "metadata": {},
     "output_type": "execute_result"
    }
   ],
   "source": [
    "# pose_similarity = pairwise_cosine_similarity(poses[:, :, 3].flatten(1))\n",
    "plt.figure()\n",
    "plt.imshow(pose_distances)\n",
    "plt.colorbar()"
   ]
  },
  {
   "cell_type": "code",
   "execution_count": 17,
   "metadata": {},
   "outputs": [
    {
     "data": {
      "application/vnd.jupyter.widget-view+json": {
       "model_id": "dffd2146a50a49b4a4e51887e872623d",
       "version_major": 2,
       "version_minor": 0
      },
      "text/plain": [
       "Canvas(toolbar=Toolbar(toolitems=[('Home', 'Reset original view', 'home', 'home'), ('Back', 'Back to previous …"
      ]
     },
     "metadata": {},
     "output_type": "display_data"
    },
    {
     "data": {
      "text/plain": [
       "<matplotlib.colorbar.Colorbar at 0x7f5b5c9d72b0>"
      ]
     },
     "execution_count": 17,
     "metadata": {},
     "output_type": "execute_result"
    }
   ],
   "source": [
    "colors = torch.cat([thetas for _ in range(len(thetas))])\n",
    "\n",
    "plt.figure()\n",
    "plt.scatter(pose_distances.flatten(), similarity.flatten(), c=colors)\n",
    "plt.ylabel('Cosine similiarity of CLIP ViT embeddings')\n",
    "plt.xlabel('Euclidean distance between cameras')\n",
    "plt.colorbar()"
   ]
  },
  {
   "cell_type": "code",
   "execution_count": 19,
   "metadata": {},
   "outputs": [
    {
     "data": {
      "application/vnd.jupyter.widget-view+json": {
       "model_id": "c090f101f8a74714864396c8c149690c",
       "version_major": 2,
       "version_minor": 0
      },
      "text/plain": [
       "Canvas(toolbar=Toolbar(toolitems=[('Home', 'Reset original view', 'home', 'home'), ('Back', 'Back to previous …"
      ]
     },
     "metadata": {},
     "output_type": "display_data"
    },
    {
     "ename": "NameError",
     "evalue": "name 'os' is not defined",
     "output_type": "error",
     "traceback": [
      "\u001b[0;31m---------------------------------------------------------------------------\u001b[0m",
      "\u001b[0;31mNameError\u001b[0m                                 Traceback (most recent call last)",
      "\u001b[0;32m<ipython-input-19-b3197dfb5641>\u001b[0m in \u001b[0;36m<module>\u001b[0;34m\u001b[0m\n\u001b[1;32m     20\u001b[0m \u001b[0;34m\u001b[0m\u001b[0m\n\u001b[1;32m     21\u001b[0m \u001b[0mplt\u001b[0m\u001b[0;34m.\u001b[0m\u001b[0mtight_layout\u001b[0m\u001b[0;34m(\u001b[0m\u001b[0;34m)\u001b[0m\u001b[0;34m\u001b[0m\u001b[0;34m\u001b[0m\u001b[0m\n\u001b[0;32m---> 22\u001b[0;31m \u001b[0mos\u001b[0m\u001b[0;34m.\u001b[0m\u001b[0mmakedirs\u001b[0m\u001b[0;34m(\u001b[0m\u001b[0;34m\"files/\"\u001b[0m\u001b[0;34m,\u001b[0m \u001b[0mexist_ok\u001b[0m\u001b[0;34m=\u001b[0m\u001b[0;32mTrue\u001b[0m\u001b[0;34m)\u001b[0m\u001b[0;34m\u001b[0m\u001b[0;34m\u001b[0m\u001b[0m\n\u001b[0m\u001b[1;32m     23\u001b[0m \u001b[0mplt\u001b[0m\u001b[0;34m.\u001b[0m\u001b[0msavefig\u001b[0m\u001b[0;34m(\u001b[0m\u001b[0;34m\"files/representation_similarity_clip_vit.pdf\"\u001b[0m\u001b[0;34m)\u001b[0m\u001b[0;34m\u001b[0m\u001b[0;34m\u001b[0m\u001b[0m\n\u001b[1;32m     24\u001b[0m \u001b[0;34m\u001b[0m\u001b[0m\n",
      "\u001b[0;31mNameError\u001b[0m: name 'os' is not defined"
     ]
    }
   ],
   "source": []
  },
  {
   "cell_type": "code",
   "execution_count": 46,
   "metadata": {},
   "outputs": [
    {
     "data": {
      "application/vnd.jupyter.widget-view+json": {
       "model_id": "90db72fb2c8f4857aa4d6270acad1a1d",
       "version_major": 2,
       "version_minor": 0
      },
      "text/plain": [
       "Canvas(toolbar=Toolbar(toolitems=[('Home', 'Reset original view', 'home', 'home'), ('Back', 'Back to previous …"
      ]
     },
     "metadata": {},
     "output_type": "display_data"
    },
    {
     "data": {
      "text/plain": [
       "Text(0.5, 0, 'Euclidean distance between camera origins')"
      ]
     },
     "execution_count": 46,
     "metadata": {},
     "output_type": "execute_result"
    }
   ],
   "source": [
    "plt.figure()\n",
    "plt.hist2d(x=pose_distances.flatten().cpu().numpy(), y=similarity.flatten().cpu().numpy())\n",
    "plt.ylabel('Cosine similarity of CLIP ViT embeddings')\n",
    "plt.xlabel('Euclidean distance between camera origins')"
   ]
  },
  {
   "cell_type": "code",
   "execution_count": 47,
   "metadata": {},
   "outputs": [
    {
     "data": {
      "application/vnd.jupyter.widget-view+json": {
       "model_id": "f0b4b4e997414b6e9bbbceac19ab927f",
       "version_major": 2,
       "version_minor": 0
      },
      "text/plain": [
       "Canvas(toolbar=Toolbar(toolitems=[('Home', 'Reset original view', 'home', 'home'), ('Back', 'Back to previous …"
      ]
     },
     "metadata": {},
     "output_type": "display_data"
    },
    {
     "data": {
      "text/plain": [
       "Text(0.5, 0, 'Cosine similarity of camera origins')"
      ]
     },
     "execution_count": 47,
     "metadata": {},
     "output_type": "execute_result"
    }
   ],
   "source": [
    "colors = torch.cat([thetas for _ in range(len(thetas))])\n",
    "\n",
    "plt.figure()\n",
    "# plt.scatter(pose_similiarty.flatten(), similarity.flatten(), c=colors)\n",
    "plt.hist2d(x=pose_similiarty.flatten().cpu().numpy(), y=similarity.flatten().cpu().numpy())\n",
    "plt.ylabel('Cosine similarity of CLIP ViT embeddings')\n",
    "plt.xlabel('Cosine similarity of camera origins')\n",
    "# plt.colorbar()"
   ]
  },
  {
   "cell_type": "code",
   "execution_count": 18,
   "metadata": {},
   "outputs": [
    {
     "data": {
      "application/vnd.jupyter.widget-view+json": {
       "model_id": "2dc52a14f496443798945c411c671451",
       "version_major": 2,
       "version_minor": 0
      },
      "text/plain": [
       "Canvas(toolbar=Toolbar(toolitems=[('Home', 'Reset original view', 'home', 'home'), ('Back', 'Back to previous …"
      ]
     },
     "metadata": {},
     "output_type": "display_data"
    },
    {
     "data": {
      "text/plain": [
       "<matplotlib.colorbar.Colorbar at 0x7f0ffe353820>"
      ]
     },
     "execution_count": 18,
     "metadata": {},
     "output_type": "execute_result"
    }
   ],
   "source": [
    "colors = torch.cat([thetas for _ in range(len(thetas))])\n",
    "\n",
    "plt.figure()\n",
    "plt.scatter(torch.acos(pose_similiarty).flatten(), similarity.flatten(), c=colors)\n",
    "plt.ylabel('Cosine similarity of CLIP ViT embeddings')\n",
    "plt.xlabel('Angle between cameras')\n",
    "plt.colorbar()"
   ]
  },
  {
   "cell_type": "code",
   "execution_count": 19,
   "metadata": {},
   "outputs": [
    {
     "data": {
      "application/vnd.jupyter.widget-view+json": {
       "model_id": "f10be06bad9f487e83e9e2e6c30d9d70",
       "version_major": 2,
       "version_minor": 0
      },
      "text/plain": [
       "Canvas(toolbar=Toolbar(toolitems=[('Home', 'Reset original view', 'home', 'home'), ('Back', 'Back to previous …"
      ]
     },
     "metadata": {},
     "output_type": "display_data"
    },
    {
     "data": {
      "text/plain": [
       "Text(0.5, 0, 'Euclidean distance between cameras')"
      ]
     },
     "execution_count": 19,
     "metadata": {},
     "output_type": "execute_result"
    }
   ],
   "source": [
    "colors = torch.cat([thetas for _ in range(len(thetas))])\n",
    "\n",
    "fig = plt.figure()\n",
    "ax = fig.add_subplot(111, projection='3d')\n",
    "idx = np.random.choice(len(thetas) ** 2, size=1000, replace=False)\n",
    "ax.scatter(torch.acos(pose_similiarty).flatten()[idx], pose_distances.flatten()[idx], similarity.flatten()[idx], c=colors[idx])\n",
    "ax.set_zlabel('Cosine similiarity of CLIP ViT embeddings')\n",
    "ax.set_xlabel('Angle between cameras')\n",
    "ax.set_ylabel('Euclidean distance between cameras')\n",
    "# plt.colorbar()"
   ]
  },
  {
   "cell_type": "code",
   "execution_count": 29,
   "metadata": {},
   "outputs": [
    {
     "data": {
      "application/vnd.jupyter.widget-view+json": {
       "model_id": "cfa5a7a8ee5145a09ecaef6e5b361423",
       "version_major": 2,
       "version_minor": 0
      },
      "text/plain": [
       "Canvas(toolbar=Toolbar(toolitems=[('Home', 'Reset original view', 'home', 'home'), ('Back', 'Back to previous …"
      ]
     },
     "metadata": {},
     "output_type": "display_data"
    },
    {
     "data": {
      "text/plain": [
       "Text(0.5, 1.0, 'Distribution of pairwise euclidean distance between camera origins')"
      ]
     },
     "execution_count": 29,
     "metadata": {},
     "output_type": "execute_result"
    }
   ],
   "source": [
    "plt.figure()\n",
    "_ = plt.hist(pose_distances.flatten().numpy(), bins=100)\n",
    "plt.title('Distribution of pairwise euclidean distance between camera origins')"
   ]
  },
  {
   "cell_type": "code",
   "execution_count": 33,
   "metadata": {},
   "outputs": [
    {
     "data": {
      "application/vnd.jupyter.widget-view+json": {
       "model_id": "85dd21a38919462c8893f3bf9eac4d34",
       "version_major": 2,
       "version_minor": 0
      },
      "text/plain": [
       "Canvas(toolbar=Toolbar(toolitems=[('Home', 'Reset original view', 'home', 'home'), ('Back', 'Back to previous …"
      ]
     },
     "metadata": {},
     "output_type": "display_data"
    },
    {
     "data": {
      "text/plain": [
       "Text(0.5, 1.0, 'Distribution of pairwise cosine similarity\\nbetween training image ViT embeddings')"
      ]
     },
     "execution_count": 33,
     "metadata": {},
     "output_type": "execute_result"
    }
   ],
   "source": [
    "plt.figure()\n",
    "_ = plt.hist(similarity.numpy().flatten(), bins=100)\n",
    "plt.title('Distribution of pairwise cosine similarity\\nbetween training image ViT embeddings')"
   ]
  },
  {
   "cell_type": "code",
   "execution_count": 22,
   "metadata": {},
   "outputs": [
    {
     "data": {
      "application/vnd.jupyter.widget-view+json": {
       "model_id": "5eb5c1ad7d9d4e138fe977775a1a913e",
       "version_major": 2,
       "version_minor": 0
      },
      "text/plain": [
       "Canvas(toolbar=Toolbar(toolitems=[('Home', 'Reset original view', 'home', 'home'), ('Back', 'Back to previous …"
      ]
     },
     "metadata": {},
     "output_type": "display_data"
    }
   ],
   "source": [
    "plt.figure()\n",
    "_ = plt.hist(-similarity.numpy().flatten(), bins=100, cumulative=True, density=True)"
   ]
  },
  {
   "cell_type": "markdown",
   "metadata": {},
   "source": [
    "# Dimensionality reduction"
   ]
  },
  {
   "cell_type": "code",
   "execution_count": 23,
   "metadata": {},
   "outputs": [],
   "source": [
    "def dim_reduction(X, color='blue', n_neighbors=10, n_components=2, mds_max_iter=100):\n",
    "    from collections import OrderedDict\n",
    "    from functools import partial\n",
    "    from time import time\n",
    "\n",
    "    import matplotlib.pyplot as plt\n",
    "    from mpl_toolkits.mplot3d import Axes3D\n",
    "    from matplotlib.ticker import NullFormatter\n",
    "\n",
    "    from sklearn import manifold, datasets\n",
    "\n",
    "    # Next line to silence pyflakes. This import is needed.\n",
    "    Axes3D\n",
    "\n",
    "    n_points = len(X)\n",
    "\n",
    "    # Create figure\n",
    "    fig = plt.figure(figsize=(15, 8))\n",
    "    fig.suptitle(\"Manifold Learning with %i points, %i neighbors\"\n",
    "                 % (1000, n_neighbors), fontsize=14)\n",
    "\n",
    "    # Add 3d scatter plot\n",
    "    ax = fig.add_subplot(251, projection='3d')\n",
    "    ax.scatter(X[:, 0], X[:, 1], X[:, 2], c=color, cmap=plt.cm.Spectral)\n",
    "    ax.view_init(4, -72)\n",
    "\n",
    "    # Set-up manifold methods\n",
    "    LLE = partial(manifold.LocallyLinearEmbedding,\n",
    "                  n_neighbors, n_components, eigen_solver='auto')\n",
    "\n",
    "    methods = OrderedDict()\n",
    "    methods['LLE'] = LLE(method='standard')\n",
    "    methods['LTSA'] = LLE(method='ltsa')\n",
    "    methods['Hessian LLE'] = LLE(method='hessian')\n",
    "    methods['Modified LLE'] = LLE(method='modified')\n",
    "    methods['Isomap'] = manifold.Isomap(n_neighbors, n_components)\n",
    "    methods['MDS'] = manifold.MDS(n_components, max_iter=mds_max_iter, n_init=1)\n",
    "    methods['SE'] = manifold.SpectralEmbedding(n_components=n_components,\n",
    "                                               n_neighbors=n_neighbors)\n",
    "    methods['t-SNE'] = manifold.TSNE(n_components=n_components, init='pca',\n",
    "                                     random_state=0)\n",
    "\n",
    "    # Plot results\n",
    "    for i, (label, method) in enumerate(methods.items()):\n",
    "        t0 = time()\n",
    "        Y = method.fit_transform(X)\n",
    "        t1 = time()\n",
    "        print(\"%s: %.2g sec\" % (label, t1 - t0))\n",
    "        ax = fig.add_subplot(2, 5, 2 + i + (i > 3))\n",
    "        ax.scatter(Y[:, 0], Y[:, 1], c=color, cmap=plt.cm.Spectral)\n",
    "        ax.set_title(\"%s (%.2g sec)\" % (label, t1 - t0))\n",
    "        ax.xaxis.set_major_formatter(NullFormatter())\n",
    "        ax.yaxis.set_major_formatter(NullFormatter())\n",
    "        ax.axis('tight')\n",
    "\n",
    "    plt.show()"
   ]
  },
  {
   "cell_type": "code",
   "execution_count": 24,
   "metadata": {},
   "outputs": [
    {
     "data": {
      "application/vnd.jupyter.widget-view+json": {
       "model_id": "5e78bb25e40047e59a2d4077d9450ffd",
       "version_major": 2,
       "version_minor": 0
      },
      "text/plain": [
       "Canvas(toolbar=Toolbar(toolitems=[('Home', 'Reset original view', 'home', 'home'), ('Back', 'Back to previous …"
      ]
     },
     "metadata": {},
     "output_type": "display_data"
    },
    {
     "name": "stderr",
     "output_type": "stream",
     "text": [
      "/home/ajay/miniconda3/envs/clip/lib/python3.8/site-packages/sklearn/utils/validation.py:70: FutureWarning: Pass n_neighbors=10, n_components=2 as keyword args. From version 1.0 (renaming of 0.25) passing these as positional arguments will result in an error\n",
      "  warnings.warn(f\"Pass {args_msg} as keyword args. From version \"\n"
     ]
    },
    {
     "name": "stdout",
     "output_type": "stream",
     "text": [
      "LLE: 0.15 sec\n",
      "LTSA: 0.056 sec\n",
      "Hessian LLE: 0.064 sec\n",
      "Modified LLE: 0.057 sec\n",
      "Isomap: 0.038 sec\n",
      "MDS: 0.028 sec\n",
      "SE: 0.01 sec\n",
      "t-SNE: 0.59 sec\n"
     ]
    }
   ],
   "source": [
    "# Dimensionality reduction of camera origin. Colored by theta (rotation around vertical axis)\n",
    "dim_reduction(xyz, thetas, n_neighbors=10, n_components=2)"
   ]
  },
  {
   "cell_type": "code",
   "execution_count": 25,
   "metadata": {},
   "outputs": [
    {
     "data": {
      "application/vnd.jupyter.widget-view+json": {
       "model_id": "77299b033603479aa883fbf1e8f3a4f6",
       "version_major": 2,
       "version_minor": 0
      },
      "text/plain": [
       "Canvas(toolbar=Toolbar(toolitems=[('Home', 'Reset original view', 'home', 'home'), ('Back', 'Back to previous …"
      ]
     },
     "metadata": {},
     "output_type": "display_data"
    },
    {
     "name": "stdout",
     "output_type": "stream",
     "text": [
      "LLE: 0.045 sec\n",
      "LTSA: 0.06 sec\n"
     ]
    },
    {
     "name": "stderr",
     "output_type": "stream",
     "text": [
      "/home/ajay/miniconda3/envs/clip/lib/python3.8/site-packages/sklearn/utils/validation.py:70: FutureWarning: Pass n_neighbors=10, n_components=2 as keyword args. From version 1.0 (renaming of 0.25) passing these as positional arguments will result in an error\n",
      "  warnings.warn(f\"Pass {args_msg} as keyword args. From version \"\n"
     ]
    },
    {
     "name": "stdout",
     "output_type": "stream",
     "text": [
      "Hessian LLE: 0.079 sec\n",
      "Modified LLE: 0.065 sec\n",
      "Isomap: 0.053 sec\n",
      "MDS: 0.024 sec\n",
      "SE: 0.012 sec\n",
      "t-SNE: 0.51 sec\n"
     ]
    }
   ],
   "source": [
    "# Dimensionality reduction of c2w matrices. Colored by theta (rotation around vertical axis)\n",
    "dim_reduction(poses.flatten(1), thetas, n_neighbors=10, n_components=2)"
   ]
  },
  {
   "cell_type": "code",
   "execution_count": 26,
   "metadata": {},
   "outputs": [
    {
     "data": {
      "application/vnd.jupyter.widget-view+json": {
       "model_id": "22f6e0b3624e4843aa4554ed8f92301a",
       "version_major": 2,
       "version_minor": 0
      },
      "text/plain": [
       "Canvas(toolbar=Toolbar(toolitems=[('Home', 'Reset original view', 'home', 'home'), ('Back', 'Back to previous …"
      ]
     },
     "metadata": {},
     "output_type": "display_data"
    },
    {
     "name": "stdout",
     "output_type": "stream",
     "text": [
      "LLE: 0.043 sec\n",
      "LTSA: 0.067 sec\n"
     ]
    },
    {
     "name": "stderr",
     "output_type": "stream",
     "text": [
      "/home/ajay/miniconda3/envs/clip/lib/python3.8/site-packages/sklearn/utils/validation.py:70: FutureWarning: Pass n_neighbors=10, n_components=2 as keyword args. From version 1.0 (renaming of 0.25) passing these as positional arguments will result in an error\n",
      "  warnings.warn(f\"Pass {args_msg} as keyword args. From version \"\n"
     ]
    },
    {
     "name": "stdout",
     "output_type": "stream",
     "text": [
      "Hessian LLE: 0.078 sec\n",
      "Modified LLE: 0.068 sec\n",
      "Isomap: 0.032 sec\n",
      "MDS: 0.19 sec\n",
      "SE: 0.011 sec\n",
      "t-SNE: 0.77 sec\n"
     ]
    }
   ],
   "source": [
    "# Dimensionality reduction of CLIP ViT embeddings. Colored by theta (rotation around vertical axis)\n",
    "dim_reduction(embedding, thetas, n_neighbors=10, n_components=2, mds_max_iter=1000)"
   ]
  },
  {
   "cell_type": "code",
   "execution_count": 27,
   "metadata": {},
   "outputs": [
    {
     "data": {
      "text/plain": [
       "torch.Size([138, 512])"
      ]
     },
     "execution_count": 27,
     "metadata": {},
     "output_type": "execute_result"
    }
   ],
   "source": [
    "embedding.shape"
   ]
  },
  {
   "cell_type": "code",
   "execution_count": null,
   "metadata": {},
   "outputs": [],
   "source": []
  }
 ],
 "metadata": {
  "kernelspec": {
   "display_name": "Python 3",
   "language": "python",
   "name": "python3"
  },
  "language_info": {
   "codemirror_mode": {
    "name": "ipython",
    "version": 3
   },
   "file_extension": ".py",
   "mimetype": "text/x-python",
   "name": "python",
   "nbconvert_exporter": "python",
   "pygments_lexer": "ipython3",
   "version": "3.8.5"
  }
 },
 "nbformat": 4,
 "nbformat_minor": 4
}
