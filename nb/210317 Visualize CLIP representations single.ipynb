{
 "cells": [
  {
   "cell_type": "code",
   "execution_count": 1,
   "metadata": {},
   "outputs": [],
   "source": [
    "%matplotlib widget"
   ]
  },
  {
   "cell_type": "code",
   "execution_count": 2,
   "metadata": {},
   "outputs": [],
   "source": [
    "import numpy as np\n",
    "import torch"
   ]
  },
  {
   "cell_type": "code",
   "execution_count": 3,
   "metadata": {},
   "outputs": [],
   "source": [
    "import matplotlib.pyplot as plt\n",
    "from mpl_toolkits.mplot3d import Axes3D"
   ]
  },
  {
   "cell_type": "markdown",
   "metadata": {},
   "source": [
    "# Load CLIP embeddings"
   ]
  },
  {
   "cell_type": "code",
   "execution_count": 5,
   "metadata": {},
   "outputs": [],
   "source": [
    "scene_data = torch.load('../logs/probe/emb_blender_paper_lego_clip_vit.pth')\n",
    "embedding = scene_data['embedding']\n",
    "embedding = torch.from_numpy(embedding).float()"
   ]
  },
  {
   "cell_type": "code",
   "execution_count": 6,
   "metadata": {},
   "outputs": [
    {
     "data": {
      "application/vnd.jupyter.widget-view+json": {
       "model_id": "6a15b9b015b74eb1953010d8b2d48080",
       "version_major": 2,
       "version_minor": 0
      },
      "text/plain": [
       "Canvas(toolbar=Toolbar(toolitems=[('Home', 'Reset original view', 'home', 'home'), ('Back', 'Back to previous …"
      ]
     },
     "metadata": {},
     "output_type": "display_data"
    },
    {
     "data": {
      "text/plain": [
       "<matplotlib.collections.PathCollection at 0x7f101ede8280>"
      ]
     },
     "execution_count": 6,
     "metadata": {},
     "output_type": "execute_result"
    }
   ],
   "source": [
    "plt.scatter(*embedding[:, :2].T)"
   ]
  },
  {
   "cell_type": "code",
   "execution_count": 7,
   "metadata": {},
   "outputs": [],
   "source": [
    "def pairwise_cosine_similarity(features):\n",
    "    assert features.ndim == 2  # [B, D]\n",
    "    norm = torch.norm(features, dim=1)\n",
    "    features_normalized = features / norm.unsqueeze(1)\n",
    "    similarity = features_normalized.mm(features_normalized.transpose(0, 1))\n",
    "    return similarity"
   ]
  },
  {
   "cell_type": "code",
   "execution_count": 8,
   "metadata": {},
   "outputs": [
    {
     "data": {
      "text/plain": [
       "tensor([[1.0000, 0.9112, 0.8482,  ..., 0.8342, 0.8256, 0.8758],\n",
       "        [0.9112, 1.0000, 0.9407,  ..., 0.9150, 0.9343, 0.9582],\n",
       "        [0.8482, 0.9407, 1.0000,  ..., 0.9444, 0.9623, 0.9370],\n",
       "        ...,\n",
       "        [0.8342, 0.9150, 0.9444,  ..., 1.0000, 0.9338, 0.9125],\n",
       "        [0.8256, 0.9343, 0.9623,  ..., 0.9338, 1.0000, 0.9413],\n",
       "        [0.8758, 0.9582, 0.9370,  ..., 0.9125, 0.9413, 1.0000]])"
      ]
     },
     "execution_count": 8,
     "metadata": {},
     "output_type": "execute_result"
    }
   ],
   "source": [
    "similarity = pairwise_cosine_similarity(embedding)\n",
    "similarity"
   ]
  },
  {
   "cell_type": "code",
   "execution_count": 9,
   "metadata": {},
   "outputs": [
    {
     "data": {
      "text/plain": [
       "<matplotlib.colorbar.Colorbar at 0x7f0fe9216100>"
      ]
     },
     "execution_count": 9,
     "metadata": {},
     "output_type": "execute_result"
    }
   ],
   "source": [
    "plt.imshow(similarity.numpy())\n",
    "plt.colorbar()"
   ]
  },
  {
   "cell_type": "markdown",
   "metadata": {},
   "source": [
    "# Pose similiarity (ground truth)"
   ]
  },
  {
   "cell_type": "code",
   "execution_count": 10,
   "metadata": {},
   "outputs": [
    {
     "data": {
      "text/plain": [
       "array([[-9.9990219e-01,  4.1922452e-03, -1.3345719e-02, -5.3798322e-02],\n",
       "       [-1.3988681e-02, -2.9965907e-01,  9.5394367e-01,  3.8454704e+00],\n",
       "       [-4.6566129e-10,  9.5403719e-01,  2.9968831e-01,  1.2080823e+00],\n",
       "       [ 0.0000000e+00,  0.0000000e+00,  0.0000000e+00,  1.0000000e+00]],\n",
       "      dtype=float32)"
      ]
     },
     "execution_count": 10,
     "metadata": {},
     "output_type": "execute_result"
    }
   ],
   "source": [
    "scene_data['poses'][0]"
   ]
  },
  {
   "cell_type": "code",
   "execution_count": 11,
   "metadata": {},
   "outputs": [],
   "source": [
    "poses = torch.from_numpy(scene_data['poses']).float()"
   ]
  },
  {
   "cell_type": "code",
   "execution_count": 28,
   "metadata": {},
   "outputs": [
    {
     "data": {
      "application/vnd.jupyter.widget-view+json": {
       "model_id": "64e84bcaf19c40ea9a1f2d7d500d1302",
       "version_major": 2,
       "version_minor": 0
      },
      "text/plain": [
       "Canvas(toolbar=Toolbar(toolitems=[('Home', 'Reset original view', 'home', 'home'), ('Back', 'Back to previous …"
      ]
     },
     "metadata": {},
     "output_type": "display_data"
    }
   ],
   "source": [
    "fig = plt.figure()\n",
    "ax = fig.add_subplot(111, projection='3d')\n",
    "ax.scatter(poses[:, 0, -1], poses[:, 1, -1], poses[:, 2, -1])\n",
    "plt.title('Camera origins')\n",
    "fig.show()"
   ]
  },
  {
   "cell_type": "code",
   "execution_count": 13,
   "metadata": {},
   "outputs": [],
   "source": [
    "xyz = poses[:, :-1, 3]\n",
    "diffs = xyz.unsqueeze(0) - xyz.unsqueeze(1)\n",
    "pose_distances = torch.sqrt((diffs ** 2).sum(dim=-1))"
   ]
  },
  {
   "cell_type": "code",
   "execution_count": 14,
   "metadata": {},
   "outputs": [],
   "source": [
    "thetas = torch.atan2(xyz[:, 1], xyz[:, 0])"
   ]
  },
  {
   "cell_type": "code",
   "execution_count": 15,
   "metadata": {},
   "outputs": [],
   "source": [
    "pose_similiarty = pairwise_cosine_similarity(xyz)"
   ]
  },
  {
   "cell_type": "code",
   "execution_count": 38,
   "metadata": {},
   "outputs": [
    {
     "data": {
      "application/vnd.jupyter.widget-view+json": {
       "model_id": "ac825920713246739a5bbc68300c728a",
       "version_major": 2,
       "version_minor": 0
      },
      "text/plain": [
       "Canvas(toolbar=Toolbar(toolitems=[('Home', 'Reset original view', 'home', 'home'), ('Back', 'Back to previous …"
      ]
     },
     "metadata": {},
     "output_type": "display_data"
    },
    {
     "data": {
      "text/plain": [
       "<matplotlib.colorbar.Colorbar at 0x7f0fdc4ede20>"
      ]
     },
     "execution_count": 38,
     "metadata": {},
     "output_type": "execute_result"
    }
   ],
   "source": [
    "plt.figure()\n",
    "plt.imshow(pose_similiarty)\n",
    "plt.colorbar()"
   ]
  },
  {
   "cell_type": "code",
   "execution_count": 16,
   "metadata": {},
   "outputs": [
    {
     "data": {
      "application/vnd.jupyter.widget-view+json": {
       "model_id": "91a759d0a72c4203b03caa6aa35307e2",
       "version_major": 2,
       "version_minor": 0
      },
      "text/plain": [
       "Canvas(toolbar=Toolbar(toolitems=[('Home', 'Reset original view', 'home', 'home'), ('Back', 'Back to previous …"
      ]
     },
     "metadata": {},
     "output_type": "display_data"
    },
    {
     "data": {
      "text/plain": [
       "<matplotlib.colorbar.Colorbar at 0x7f0fe90c8670>"
      ]
     },
     "execution_count": 16,
     "metadata": {},
     "output_type": "execute_result"
    }
   ],
   "source": [
    "# pose_similarity = pairwise_cosine_similarity(poses[:, :, 3].flatten(1))\n",
    "plt.figure()\n",
    "plt.imshow(pose_distances)\n",
    "plt.colorbar()"
   ]
  },
  {
   "cell_type": "code",
   "execution_count": 17,
   "metadata": {},
   "outputs": [
    {
     "data": {
      "application/vnd.jupyter.widget-view+json": {
       "model_id": "dc549a79c3e347dd9f9831d4df3cc3a0",
       "version_major": 2,
       "version_minor": 0
      },
      "text/plain": [
       "Canvas(toolbar=Toolbar(toolitems=[('Home', 'Reset original view', 'home', 'home'), ('Back', 'Back to previous …"
      ]
     },
     "metadata": {},
     "output_type": "display_data"
    },
    {
     "data": {
      "text/plain": [
       "<matplotlib.colorbar.Colorbar at 0x7f0fe911d490>"
      ]
     },
     "execution_count": 17,
     "metadata": {},
     "output_type": "execute_result"
    }
   ],
   "source": [
    "colors = torch.cat([thetas for _ in range(len(thetas))])\n",
    "\n",
    "plt.figure()\n",
    "plt.scatter(pose_distances.flatten(), similarity.flatten(), c=colors)\n",
    "plt.ylabel('Cosine similiarity of CLIP ViT embeddings')\n",
    "plt.xlabel('Euclidean distance between cameras')\n",
    "plt.colorbar()"
   ]
  },
  {
   "cell_type": "code",
   "execution_count": 93,
   "metadata": {},
   "outputs": [
    {
     "data": {
      "application/vnd.jupyter.widget-view+json": {
       "model_id": "bc3850cf3b6d49fd9cd3ab860b8b924c",
       "version_major": 2,
       "version_minor": 0
      },
      "text/plain": [
       "Canvas(toolbar=Toolbar(toolitems=[('Home', 'Reset original view', 'home', 'home'), ('Back', 'Back to previous …"
      ]
     },
     "metadata": {},
     "output_type": "display_data"
    }
   ],
   "source": [
    "cmap = 'Greens'\n",
    "bins = 30\n",
    "ylim = [0, 1]\n",
    "\n",
    "fig, axes = plt.subplots(1, 2, sharey=True, figsize=(6, 3))\n",
    "axes[0].hist2d(x=pose_distances.flatten().cpu().numpy(),\n",
    "               y=similarity.flatten().cpu().numpy(),\n",
    "               cmap=cmap, bins=bins, range=[[0, 8], ylim])\n",
    "axes[0].set_ylabel('Cosine similarity of\\nCLIP ViT embeddings')\n",
    "axes[0].set_xlabel('Euclidean distance\\nbetween camera origins')\n",
    "\n",
    "axes[1].hist2d(x=pose_similiarty.flatten().cpu().numpy(),\n",
    "               y=similarity.flatten().cpu().numpy(),\n",
    "               cmap=cmap, bins=bins, range=[[-1, 1], ylim])\n",
    "# axes[1].set_ylabel('Cosine similarity of CLIP ViT embeddings')\n",
    "axes[1].set_xlabel('Cosine similarity\\nof camera origins')\n",
    "\n",
    "axes[1].set_ylim(ylim)\n",
    "axes[1].set_xlim([-1, 1])\n",
    "\n",
    "plt.tight_layout()\n",
    "plt.savefig(\"files/representation_similarity_clip_vit.pdf\")\n",
    "\n",
    "# plt.title('Camera position versus representation similarity')"
   ]
  },
  {
   "cell_type": "code",
   "execution_count": 46,
   "metadata": {},
   "outputs": [
    {
     "data": {
      "application/vnd.jupyter.widget-view+json": {
       "model_id": "90db72fb2c8f4857aa4d6270acad1a1d",
       "version_major": 2,
       "version_minor": 0
      },
      "text/plain": [
       "Canvas(toolbar=Toolbar(toolitems=[('Home', 'Reset original view', 'home', 'home'), ('Back', 'Back to previous …"
      ]
     },
     "metadata": {},
     "output_type": "display_data"
    },
    {
     "data": {
      "text/plain": [
       "Text(0.5, 0, 'Euclidean distance between camera origins')"
      ]
     },
     "execution_count": 46,
     "metadata": {},
     "output_type": "execute_result"
    }
   ],
   "source": [
    "plt.figure()\n",
    "plt.hist2d(x=pose_distances.flatten().cpu().numpy(), y=similarity.flatten().cpu().numpy())\n",
    "plt.ylabel('Cosine similarity of CLIP ViT embeddings')\n",
    "plt.xlabel('Euclidean distance between camera origins')"
   ]
  },
  {
   "cell_type": "code",
   "execution_count": 47,
   "metadata": {},
   "outputs": [
    {
     "data": {
      "application/vnd.jupyter.widget-view+json": {
       "model_id": "f0b4b4e997414b6e9bbbceac19ab927f",
       "version_major": 2,
       "version_minor": 0
      },
      "text/plain": [
       "Canvas(toolbar=Toolbar(toolitems=[('Home', 'Reset original view', 'home', 'home'), ('Back', 'Back to previous …"
      ]
     },
     "metadata": {},
     "output_type": "display_data"
    },
    {
     "data": {
      "text/plain": [
       "Text(0.5, 0, 'Cosine similarity of camera origins')"
      ]
     },
     "execution_count": 47,
     "metadata": {},
     "output_type": "execute_result"
    }
   ],
   "source": [
    "colors = torch.cat([thetas for _ in range(len(thetas))])\n",
    "\n",
    "plt.figure()\n",
    "# plt.scatter(pose_similiarty.flatten(), similarity.flatten(), c=colors)\n",
    "plt.hist2d(x=pose_similiarty.flatten().cpu().numpy(), y=similarity.flatten().cpu().numpy())\n",
    "plt.ylabel('Cosine similarity of CLIP ViT embeddings')\n",
    "plt.xlabel('Cosine similarity of camera origins')\n",
    "# plt.colorbar()"
   ]
  },
  {
   "cell_type": "code",
   "execution_count": 18,
   "metadata": {},
   "outputs": [
    {
     "data": {
      "application/vnd.jupyter.widget-view+json": {
       "model_id": "2dc52a14f496443798945c411c671451",
       "version_major": 2,
       "version_minor": 0
      },
      "text/plain": [
       "Canvas(toolbar=Toolbar(toolitems=[('Home', 'Reset original view', 'home', 'home'), ('Back', 'Back to previous …"
      ]
     },
     "metadata": {},
     "output_type": "display_data"
    },
    {
     "data": {
      "text/plain": [
       "<matplotlib.colorbar.Colorbar at 0x7f0ffe353820>"
      ]
     },
     "execution_count": 18,
     "metadata": {},
     "output_type": "execute_result"
    }
   ],
   "source": [
    "colors = torch.cat([thetas for _ in range(len(thetas))])\n",
    "\n",
    "plt.figure()\n",
    "plt.scatter(torch.acos(pose_similiarty).flatten(), similarity.flatten(), c=colors)\n",
    "plt.ylabel('Cosine similarity of CLIP ViT embeddings')\n",
    "plt.xlabel('Angle between cameras')\n",
    "plt.colorbar()"
   ]
  },
  {
   "cell_type": "code",
   "execution_count": 19,
   "metadata": {},
   "outputs": [
    {
     "data": {
      "application/vnd.jupyter.widget-view+json": {
       "model_id": "f10be06bad9f487e83e9e2e6c30d9d70",
       "version_major": 2,
       "version_minor": 0
      },
      "text/plain": [
       "Canvas(toolbar=Toolbar(toolitems=[('Home', 'Reset original view', 'home', 'home'), ('Back', 'Back to previous …"
      ]
     },
     "metadata": {},
     "output_type": "display_data"
    },
    {
     "data": {
      "text/plain": [
       "Text(0.5, 0, 'Euclidean distance between cameras')"
      ]
     },
     "execution_count": 19,
     "metadata": {},
     "output_type": "execute_result"
    }
   ],
   "source": [
    "colors = torch.cat([thetas for _ in range(len(thetas))])\n",
    "\n",
    "fig = plt.figure()\n",
    "ax = fig.add_subplot(111, projection='3d')\n",
    "idx = np.random.choice(len(thetas) ** 2, size=1000, replace=False)\n",
    "ax.scatter(torch.acos(pose_similiarty).flatten()[idx], pose_distances.flatten()[idx], similarity.flatten()[idx], c=colors[idx])\n",
    "ax.set_zlabel('Cosine similiarity of CLIP ViT embeddings')\n",
    "ax.set_xlabel('Angle between cameras')\n",
    "ax.set_ylabel('Euclidean distance between cameras')\n",
    "# plt.colorbar()"
   ]
  },
  {
   "cell_type": "code",
   "execution_count": 29,
   "metadata": {},
   "outputs": [
    {
     "data": {
      "application/vnd.jupyter.widget-view+json": {
       "model_id": "cfa5a7a8ee5145a09ecaef6e5b361423",
       "version_major": 2,
       "version_minor": 0
      },
      "text/plain": [
       "Canvas(toolbar=Toolbar(toolitems=[('Home', 'Reset original view', 'home', 'home'), ('Back', 'Back to previous …"
      ]
     },
     "metadata": {},
     "output_type": "display_data"
    },
    {
     "data": {
      "text/plain": [
       "Text(0.5, 1.0, 'Distribution of pairwise euclidean distance between camera origins')"
      ]
     },
     "execution_count": 29,
     "metadata": {},
     "output_type": "execute_result"
    }
   ],
   "source": [
    "plt.figure()\n",
    "_ = plt.hist(pose_distances.flatten().numpy(), bins=100)\n",
    "plt.title('Distribution of pairwise euclidean distance between camera origins')"
   ]
  },
  {
   "cell_type": "code",
   "execution_count": 33,
   "metadata": {},
   "outputs": [
    {
     "data": {
      "application/vnd.jupyter.widget-view+json": {
       "model_id": "85dd21a38919462c8893f3bf9eac4d34",
       "version_major": 2,
       "version_minor": 0
      },
      "text/plain": [
       "Canvas(toolbar=Toolbar(toolitems=[('Home', 'Reset original view', 'home', 'home'), ('Back', 'Back to previous …"
      ]
     },
     "metadata": {},
     "output_type": "display_data"
    },
    {
     "data": {
      "text/plain": [
       "Text(0.5, 1.0, 'Distribution of pairwise cosine similarity\\nbetween training image ViT embeddings')"
      ]
     },
     "execution_count": 33,
     "metadata": {},
     "output_type": "execute_result"
    }
   ],
   "source": [
    "plt.figure()\n",
    "_ = plt.hist(similarity.numpy().flatten(), bins=100)\n",
    "plt.title('Distribution of pairwise cosine similarity\\nbetween training image ViT embeddings')"
   ]
  },
  {
   "cell_type": "code",
   "execution_count": 22,
   "metadata": {},
   "outputs": [
    {
     "data": {
      "application/vnd.jupyter.widget-view+json": {
       "model_id": "5eb5c1ad7d9d4e138fe977775a1a913e",
       "version_major": 2,
       "version_minor": 0
      },
      "text/plain": [
       "Canvas(toolbar=Toolbar(toolitems=[('Home', 'Reset original view', 'home', 'home'), ('Back', 'Back to previous …"
      ]
     },
     "metadata": {},
     "output_type": "display_data"
    }
   ],
   "source": [
    "plt.figure()\n",
    "_ = plt.hist(-similarity.numpy().flatten(), bins=100, cumulative=True, density=True)"
   ]
  },
  {
   "cell_type": "markdown",
   "metadata": {},
   "source": [
    "# Dimensionality reduction"
   ]
  },
  {
   "cell_type": "code",
   "execution_count": 23,
   "metadata": {},
   "outputs": [],
   "source": [
    "def dim_reduction(X, color='blue', n_neighbors=10, n_components=2, mds_max_iter=100):\n",
    "    from collections import OrderedDict\n",
    "    from functools import partial\n",
    "    from time import time\n",
    "\n",
    "    import matplotlib.pyplot as plt\n",
    "    from mpl_toolkits.mplot3d import Axes3D\n",
    "    from matplotlib.ticker import NullFormatter\n",
    "\n",
    "    from sklearn import manifold, datasets\n",
    "\n",
    "    # Next line to silence pyflakes. This import is needed.\n",
    "    Axes3D\n",
    "\n",
    "    n_points = len(X)\n",
    "\n",
    "    # Create figure\n",
    "    fig = plt.figure(figsize=(15, 8))\n",
    "    fig.suptitle(\"Manifold Learning with %i points, %i neighbors\"\n",
    "                 % (1000, n_neighbors), fontsize=14)\n",
    "\n",
    "    # Add 3d scatter plot\n",
    "    ax = fig.add_subplot(251, projection='3d')\n",
    "    ax.scatter(X[:, 0], X[:, 1], X[:, 2], c=color, cmap=plt.cm.Spectral)\n",
    "    ax.view_init(4, -72)\n",
    "\n",
    "    # Set-up manifold methods\n",
    "    LLE = partial(manifold.LocallyLinearEmbedding,\n",
    "                  n_neighbors, n_components, eigen_solver='auto')\n",
    "\n",
    "    methods = OrderedDict()\n",
    "    methods['LLE'] = LLE(method='standard')\n",
    "    methods['LTSA'] = LLE(method='ltsa')\n",
    "    methods['Hessian LLE'] = LLE(method='hessian')\n",
    "    methods['Modified LLE'] = LLE(method='modified')\n",
    "    methods['Isomap'] = manifold.Isomap(n_neighbors, n_components)\n",
    "    methods['MDS'] = manifold.MDS(n_components, max_iter=mds_max_iter, n_init=1)\n",
    "    methods['SE'] = manifold.SpectralEmbedding(n_components=n_components,\n",
    "                                               n_neighbors=n_neighbors)\n",
    "    methods['t-SNE'] = manifold.TSNE(n_components=n_components, init='pca',\n",
    "                                     random_state=0)\n",
    "\n",
    "    # Plot results\n",
    "    for i, (label, method) in enumerate(methods.items()):\n",
    "        t0 = time()\n",
    "        Y = method.fit_transform(X)\n",
    "        t1 = time()\n",
    "        print(\"%s: %.2g sec\" % (label, t1 - t0))\n",
    "        ax = fig.add_subplot(2, 5, 2 + i + (i > 3))\n",
    "        ax.scatter(Y[:, 0], Y[:, 1], c=color, cmap=plt.cm.Spectral)\n",
    "        ax.set_title(\"%s (%.2g sec)\" % (label, t1 - t0))\n",
    "        ax.xaxis.set_major_formatter(NullFormatter())\n",
    "        ax.yaxis.set_major_formatter(NullFormatter())\n",
    "        ax.axis('tight')\n",
    "\n",
    "    plt.show()"
   ]
  },
  {
   "cell_type": "code",
   "execution_count": 24,
   "metadata": {},
   "outputs": [
    {
     "data": {
      "application/vnd.jupyter.widget-view+json": {
       "model_id": "5e78bb25e40047e59a2d4077d9450ffd",
       "version_major": 2,
       "version_minor": 0
      },
      "text/plain": [
       "Canvas(toolbar=Toolbar(toolitems=[('Home', 'Reset original view', 'home', 'home'), ('Back', 'Back to previous …"
      ]
     },
     "metadata": {},
     "output_type": "display_data"
    },
    {
     "name": "stderr",
     "output_type": "stream",
     "text": [
      "/home/ajay/miniconda3/envs/clip/lib/python3.8/site-packages/sklearn/utils/validation.py:70: FutureWarning: Pass n_neighbors=10, n_components=2 as keyword args. From version 1.0 (renaming of 0.25) passing these as positional arguments will result in an error\n",
      "  warnings.warn(f\"Pass {args_msg} as keyword args. From version \"\n"
     ]
    },
    {
     "name": "stdout",
     "output_type": "stream",
     "text": [
      "LLE: 0.15 sec\n",
      "LTSA: 0.056 sec\n",
      "Hessian LLE: 0.064 sec\n",
      "Modified LLE: 0.057 sec\n",
      "Isomap: 0.038 sec\n",
      "MDS: 0.028 sec\n",
      "SE: 0.01 sec\n",
      "t-SNE: 0.59 sec\n"
     ]
    }
   ],
   "source": [
    "# Dimensionality reduction of camera origin. Colored by theta (rotation around vertical axis)\n",
    "dim_reduction(xyz, thetas, n_neighbors=10, n_components=2)"
   ]
  },
  {
   "cell_type": "code",
   "execution_count": 25,
   "metadata": {},
   "outputs": [
    {
     "data": {
      "application/vnd.jupyter.widget-view+json": {
       "model_id": "77299b033603479aa883fbf1e8f3a4f6",
       "version_major": 2,
       "version_minor": 0
      },
      "text/plain": [
       "Canvas(toolbar=Toolbar(toolitems=[('Home', 'Reset original view', 'home', 'home'), ('Back', 'Back to previous …"
      ]
     },
     "metadata": {},
     "output_type": "display_data"
    },
    {
     "name": "stdout",
     "output_type": "stream",
     "text": [
      "LLE: 0.045 sec\n",
      "LTSA: 0.06 sec\n"
     ]
    },
    {
     "name": "stderr",
     "output_type": "stream",
     "text": [
      "/home/ajay/miniconda3/envs/clip/lib/python3.8/site-packages/sklearn/utils/validation.py:70: FutureWarning: Pass n_neighbors=10, n_components=2 as keyword args. From version 1.0 (renaming of 0.25) passing these as positional arguments will result in an error\n",
      "  warnings.warn(f\"Pass {args_msg} as keyword args. From version \"\n"
     ]
    },
    {
     "name": "stdout",
     "output_type": "stream",
     "text": [
      "Hessian LLE: 0.079 sec\n",
      "Modified LLE: 0.065 sec\n",
      "Isomap: 0.053 sec\n",
      "MDS: 0.024 sec\n",
      "SE: 0.012 sec\n",
      "t-SNE: 0.51 sec\n"
     ]
    }
   ],
   "source": [
    "# Dimensionality reduction of c2w matrices. Colored by theta (rotation around vertical axis)\n",
    "dim_reduction(poses.flatten(1), thetas, n_neighbors=10, n_components=2)"
   ]
  },
  {
   "cell_type": "code",
   "execution_count": 26,
   "metadata": {},
   "outputs": [
    {
     "data": {
      "application/vnd.jupyter.widget-view+json": {
       "model_id": "22f6e0b3624e4843aa4554ed8f92301a",
       "version_major": 2,
       "version_minor": 0
      },
      "text/plain": [
       "Canvas(toolbar=Toolbar(toolitems=[('Home', 'Reset original view', 'home', 'home'), ('Back', 'Back to previous …"
      ]
     },
     "metadata": {},
     "output_type": "display_data"
    },
    {
     "name": "stdout",
     "output_type": "stream",
     "text": [
      "LLE: 0.043 sec\n",
      "LTSA: 0.067 sec\n"
     ]
    },
    {
     "name": "stderr",
     "output_type": "stream",
     "text": [
      "/home/ajay/miniconda3/envs/clip/lib/python3.8/site-packages/sklearn/utils/validation.py:70: FutureWarning: Pass n_neighbors=10, n_components=2 as keyword args. From version 1.0 (renaming of 0.25) passing these as positional arguments will result in an error\n",
      "  warnings.warn(f\"Pass {args_msg} as keyword args. From version \"\n"
     ]
    },
    {
     "name": "stdout",
     "output_type": "stream",
     "text": [
      "Hessian LLE: 0.078 sec\n",
      "Modified LLE: 0.068 sec\n",
      "Isomap: 0.032 sec\n",
      "MDS: 0.19 sec\n",
      "SE: 0.011 sec\n",
      "t-SNE: 0.77 sec\n"
     ]
    }
   ],
   "source": [
    "# Dimensionality reduction of CLIP ViT embeddings. Colored by theta (rotation around vertical axis)\n",
    "dim_reduction(embedding, thetas, n_neighbors=10, n_components=2, mds_max_iter=1000)"
   ]
  },
  {
   "cell_type": "code",
   "execution_count": 27,
   "metadata": {},
   "outputs": [
    {
     "data": {
      "text/plain": [
       "torch.Size([138, 512])"
      ]
     },
     "execution_count": 27,
     "metadata": {},
     "output_type": "execute_result"
    }
   ],
   "source": [
    "embedding.shape"
   ]
  },
  {
   "cell_type": "code",
   "execution_count": null,
   "metadata": {},
   "outputs": [],
   "source": []
  }
 ],
 "metadata": {
  "kernelspec": {
   "display_name": "Python 3",
   "language": "python",
   "name": "python3"
  },
  "language_info": {
   "codemirror_mode": {
    "name": "ipython",
    "version": 3
   },
   "file_extension": ".py",
   "mimetype": "text/x-python",
   "name": "python",
   "nbconvert_exporter": "python",
   "pygments_lexer": "ipython3",
   "version": "3.8.5"
  }
 },
 "nbformat": 4,
 "nbformat_minor": 4
}
