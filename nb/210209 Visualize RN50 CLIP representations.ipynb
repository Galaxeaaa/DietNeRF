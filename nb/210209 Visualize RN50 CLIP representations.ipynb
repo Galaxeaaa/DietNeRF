{
 "cells": [
  {
   "cell_type": "code",
   "execution_count": 1,
   "metadata": {},
   "outputs": [],
   "source": [
    "%matplotlib widget"
   ]
  },
  {
   "cell_type": "code",
   "execution_count": 2,
   "metadata": {},
   "outputs": [],
   "source": [
    "import numpy as np\n",
    "import torch"
   ]
  },
  {
   "cell_type": "code",
   "execution_count": 3,
   "metadata": {},
   "outputs": [],
   "source": [
    "import matplotlib.pyplot as plt\n",
    "from mpl_toolkits.mplot3d import Axes3D"
   ]
  },
  {
   "cell_type": "markdown",
   "metadata": {},
   "source": [
    "# Load CLIP embeddings"
   ]
  },
  {
   "cell_type": "code",
   "execution_count": 4,
   "metadata": {},
   "outputs": [],
   "source": [
    "scene_data = torch.load('./logs/probe/emb_blender_paper_lego_clip_rn50.pth')\n",
    "embedding = scene_data['embedding']\n",
    "embedding = torch.from_numpy(embedding).float()"
   ]
  },
  {
   "cell_type": "code",
   "execution_count": 5,
   "metadata": {},
   "outputs": [
    {
     "data": {
      "application/vnd.jupyter.widget-view+json": {
       "model_id": "3f45938cc6d249d491daa6dc7a9240bf",
       "version_major": 2,
       "version_minor": 0
      },
      "text/plain": [
       "Canvas(toolbar=Toolbar(toolitems=[('Home', 'Reset original view', 'home', 'home'), ('Back', 'Back to previous …"
      ]
     },
     "metadata": {},
     "output_type": "display_data"
    },
    {
     "data": {
      "text/plain": [
       "<matplotlib.collections.PathCollection at 0x7fd3d82daac0>"
      ]
     },
     "execution_count": 5,
     "metadata": {},
     "output_type": "execute_result"
    }
   ],
   "source": [
    "plt.scatter(*embedding[:, :2].T)"
   ]
  },
  {
   "cell_type": "code",
   "execution_count": 6,
   "metadata": {},
   "outputs": [],
   "source": [
    "def pairwise_cosine_similarity(features):\n",
    "    assert features.ndim == 2  # [B, D]\n",
    "    norm = torch.norm(features, dim=1)\n",
    "    features_normalized = features / norm.unsqueeze(1)\n",
    "    similarity = features_normalized.mm(features_normalized.transpose(0, 1))\n",
    "    return similarity"
   ]
  },
  {
   "cell_type": "code",
   "execution_count": 7,
   "metadata": {},
   "outputs": [
    {
     "data": {
      "text/plain": [
       "tensor([[1.0000, 0.8671, 0.8357,  ..., 0.8393, 0.8472, 0.8454],\n",
       "        [0.8671, 1.0000, 0.9379,  ..., 0.9265, 0.9550, 0.9583],\n",
       "        [0.8357, 0.9379, 1.0000,  ..., 0.9544, 0.9460, 0.9244],\n",
       "        ...,\n",
       "        [0.8393, 0.9265, 0.9544,  ..., 1.0000, 0.9579, 0.9375],\n",
       "        [0.8472, 0.9550, 0.9460,  ..., 0.9579, 1.0000, 0.9603],\n",
       "        [0.8454, 0.9583, 0.9244,  ..., 0.9375, 0.9603, 1.0000]])"
      ]
     },
     "execution_count": 7,
     "metadata": {},
     "output_type": "execute_result"
    }
   ],
   "source": [
    "similarity = pairwise_cosine_similarity(embedding)\n",
    "similarity"
   ]
  },
  {
   "cell_type": "code",
   "execution_count": 8,
   "metadata": {},
   "outputs": [
    {
     "data": {
      "text/plain": [
       "<matplotlib.colorbar.Colorbar at 0x7fd3bc7c1400>"
      ]
     },
     "execution_count": 8,
     "metadata": {},
     "output_type": "execute_result"
    }
   ],
   "source": [
    "plt.imshow(similarity.numpy())\n",
    "plt.colorbar()"
   ]
  },
  {
   "cell_type": "markdown",
   "metadata": {},
   "source": [
    "# Pose similiarity (ground truth)"
   ]
  },
  {
   "cell_type": "code",
   "execution_count": 9,
   "metadata": {},
   "outputs": [
    {
     "data": {
      "text/plain": [
       "array([[-9.9990219e-01,  4.1922452e-03, -1.3345719e-02, -5.3798322e-02],\n",
       "       [-1.3988681e-02, -2.9965907e-01,  9.5394367e-01,  3.8454704e+00],\n",
       "       [-4.6566129e-10,  9.5403719e-01,  2.9968831e-01,  1.2080823e+00],\n",
       "       [ 0.0000000e+00,  0.0000000e+00,  0.0000000e+00,  1.0000000e+00]],\n",
       "      dtype=float32)"
      ]
     },
     "execution_count": 9,
     "metadata": {},
     "output_type": "execute_result"
    }
   ],
   "source": [
    "scene_data['poses'][0]"
   ]
  },
  {
   "cell_type": "code",
   "execution_count": 10,
   "metadata": {},
   "outputs": [],
   "source": [
    "poses = torch.from_numpy(scene_data['poses']).float()"
   ]
  },
  {
   "cell_type": "code",
   "execution_count": 11,
   "metadata": {},
   "outputs": [
    {
     "data": {
      "application/vnd.jupyter.widget-view+json": {
       "model_id": "94bbbb9ad62c4ae4b5f5e1e0defe55b9",
       "version_major": 2,
       "version_minor": 0
      },
      "text/plain": [
       "Canvas(toolbar=Toolbar(toolitems=[('Home', 'Reset original view', 'home', 'home'), ('Back', 'Back to previous …"
      ]
     },
     "metadata": {},
     "output_type": "display_data"
    }
   ],
   "source": [
    "fig = plt.figure()\n",
    "ax = fig.add_subplot(111, projection='3d')\n",
    "ax.scatter(poses[:, 0, -1], poses[:, 1, -1], poses[:, 2, -1])\n",
    "fig.show()"
   ]
  },
  {
   "cell_type": "code",
   "execution_count": 12,
   "metadata": {},
   "outputs": [],
   "source": [
    "xyz = poses[:, :-1, 3]\n",
    "diffs = xyz.unsqueeze(0) - xyz.unsqueeze(1)\n",
    "pose_distances = torch.sqrt((diffs ** 2).sum(dim=-1))"
   ]
  },
  {
   "cell_type": "code",
   "execution_count": 13,
   "metadata": {},
   "outputs": [],
   "source": [
    "thetas = torch.atan2(xyz[:, 1], xyz[:, 0])"
   ]
  },
  {
   "cell_type": "code",
   "execution_count": 14,
   "metadata": {},
   "outputs": [],
   "source": [
    "pose_similiarty = pairwise_cosine_similarity(xyz)"
   ]
  },
  {
   "cell_type": "code",
   "execution_count": 15,
   "metadata": {},
   "outputs": [
    {
     "data": {
      "application/vnd.jupyter.widget-view+json": {
       "model_id": "f57a25cb33404a7fa415966631c23b28",
       "version_major": 2,
       "version_minor": 0
      },
      "text/plain": [
       "Canvas(toolbar=Toolbar(toolitems=[('Home', 'Reset original view', 'home', 'home'), ('Back', 'Back to previous …"
      ]
     },
     "metadata": {},
     "output_type": "display_data"
    },
    {
     "data": {
      "text/plain": [
       "<matplotlib.colorbar.Colorbar at 0x7fd3bc303040>"
      ]
     },
     "execution_count": 15,
     "metadata": {},
     "output_type": "execute_result"
    }
   ],
   "source": [
    "# pose_similarity = pairwise_cosine_similarity(poses[:, :, 3].flatten(1))\n",
    "plt.figure()\n",
    "plt.imshow(pose_distances)\n",
    "plt.colorbar()"
   ]
  },
  {
   "cell_type": "code",
   "execution_count": 16,
   "metadata": {},
   "outputs": [
    {
     "data": {
      "application/vnd.jupyter.widget-view+json": {
       "model_id": "942445a11872470eb88cd94f0a6e77cb",
       "version_major": 2,
       "version_minor": 0
      },
      "text/plain": [
       "Canvas(toolbar=Toolbar(toolitems=[('Home', 'Reset original view', 'home', 'home'), ('Back', 'Back to previous …"
      ]
     },
     "metadata": {},
     "output_type": "display_data"
    },
    {
     "data": {
      "text/plain": [
       "<matplotlib.colorbar.Colorbar at 0x7fd3bc2c53a0>"
      ]
     },
     "execution_count": 16,
     "metadata": {},
     "output_type": "execute_result"
    }
   ],
   "source": [
    "colors = torch.cat([thetas for _ in range(len(thetas))])\n",
    "\n",
    "plt.figure()\n",
    "plt.scatter(pose_distances.flatten(), similarity.flatten(), c=colors)\n",
    "plt.ylabel('Cosine similiarity of CLIP ViT embeddings')\n",
    "plt.xlabel('Euclidean distance between cameras')\n",
    "plt.colorbar()"
   ]
  },
  {
   "cell_type": "code",
   "execution_count": 17,
   "metadata": {},
   "outputs": [
    {
     "data": {
      "application/vnd.jupyter.widget-view+json": {
       "model_id": "fac1a153967c49e0a90dd950a16c8761",
       "version_major": 2,
       "version_minor": 0
      },
      "text/plain": [
       "Canvas(toolbar=Toolbar(toolitems=[('Home', 'Reset original view', 'home', 'home'), ('Back', 'Back to previous …"
      ]
     },
     "metadata": {},
     "output_type": "display_data"
    },
    {
     "data": {
      "text/plain": [
       "<matplotlib.colorbar.Colorbar at 0x7fd3bc0e5a00>"
      ]
     },
     "execution_count": 17,
     "metadata": {},
     "output_type": "execute_result"
    }
   ],
   "source": [
    "colors = torch.cat([thetas for _ in range(len(thetas))])\n",
    "\n",
    "plt.figure()\n",
    "plt.scatter(torch.acos(pose_similiarty).flatten(), similarity.flatten(), c=colors)\n",
    "plt.ylabel('Cosine similiarity of CLIP RN50 embeddings')\n",
    "plt.xlabel('Angle between cameras')\n",
    "plt.colorbar()"
   ]
  },
  {
   "cell_type": "code",
   "execution_count": 18,
   "metadata": {},
   "outputs": [
    {
     "data": {
      "application/vnd.jupyter.widget-view+json": {
       "model_id": "e107eaf7f6744659a55c7b12362c6595",
       "version_major": 2,
       "version_minor": 0
      },
      "text/plain": [
       "Canvas(toolbar=Toolbar(toolitems=[('Home', 'Reset original view', 'home', 'home'), ('Back', 'Back to previous …"
      ]
     },
     "metadata": {},
     "output_type": "display_data"
    },
    {
     "data": {
      "text/plain": [
       "Text(0.5, 0, 'Euclidean distance between cameras')"
      ]
     },
     "execution_count": 18,
     "metadata": {},
     "output_type": "execute_result"
    }
   ],
   "source": [
    "colors = torch.cat([thetas for _ in range(len(thetas))])\n",
    "\n",
    "fig = plt.figure()\n",
    "ax = fig.add_subplot(111, projection='3d')\n",
    "idx = np.random.choice(len(thetas) ** 2, size=1000, replace=False)\n",
    "ax.scatter(torch.acos(pose_similiarty).flatten()[idx], pose_distances.flatten()[idx], similarity.flatten()[idx], c=colors[idx])\n",
    "ax.set_zlabel('Cosine similiarity of CLIP RN50 embeddings')\n",
    "ax.set_xlabel('Angle between cameras')\n",
    "ax.set_ylabel('Euclidean distance between cameras')\n",
    "# plt.colorbar()"
   ]
  },
  {
   "cell_type": "code",
   "execution_count": 24,
   "metadata": {},
   "outputs": [
    {
     "data": {
      "application/vnd.jupyter.widget-view+json": {
       "model_id": "8876cdf589024f0cb707d74f76bd2d2b",
       "version_major": 2,
       "version_minor": 0
      },
      "text/plain": [
       "Canvas(toolbar=Toolbar(toolitems=[('Home', 'Reset original view', 'home', 'home'), ('Back', 'Back to previous …"
      ]
     },
     "metadata": {},
     "output_type": "display_data"
    }
   ],
   "source": [
    "plt.figure()\n",
    "_ = plt.hist(pose_distances.flatten().numpy(), bins=100)"
   ]
  },
  {
   "cell_type": "code",
   "execution_count": 25,
   "metadata": {},
   "outputs": [
    {
     "data": {
      "application/vnd.jupyter.widget-view+json": {
       "model_id": "a2e4c76ff1af4a97923a9a78c8e6ac3a",
       "version_major": 2,
       "version_minor": 0
      },
      "text/plain": [
       "Canvas(toolbar=Toolbar(toolitems=[('Home', 'Reset original view', 'home', 'home'), ('Back', 'Back to previous …"
      ]
     },
     "metadata": {},
     "output_type": "display_data"
    }
   ],
   "source": [
    "plt.figure()\n",
    "_ = plt.hist(similarity.numpy().flatten(), bins=100)"
   ]
  },
  {
   "cell_type": "code",
   "execution_count": 26,
   "metadata": {},
   "outputs": [
    {
     "data": {
      "application/vnd.jupyter.widget-view+json": {
       "model_id": "00098c09adfc4f1c882ca3b2f61669e3",
       "version_major": 2,
       "version_minor": 0
      },
      "text/plain": [
       "Canvas(toolbar=Toolbar(toolitems=[('Home', 'Reset original view', 'home', 'home'), ('Back', 'Back to previous …"
      ]
     },
     "metadata": {},
     "output_type": "display_data"
    }
   ],
   "source": [
    "plt.figure()\n",
    "_ = plt.hist(-similarity.numpy().flatten(), bins=100, cumulative=True, density=True)"
   ]
  },
  {
   "cell_type": "markdown",
   "metadata": {},
   "source": [
    "# Dimensionality reduction"
   ]
  },
  {
   "cell_type": "code",
   "execution_count": 19,
   "metadata": {},
   "outputs": [],
   "source": [
    "def dim_reduction(X, color='blue', n_neighbors=10, n_components=2, mds_max_iter=100):\n",
    "    from collections import OrderedDict\n",
    "    from functools import partial\n",
    "    from time import time\n",
    "\n",
    "    import matplotlib.pyplot as plt\n",
    "    from mpl_toolkits.mplot3d import Axes3D\n",
    "    from matplotlib.ticker import NullFormatter\n",
    "\n",
    "    from sklearn import manifold, datasets\n",
    "\n",
    "    # Next line to silence pyflakes. This import is needed.\n",
    "    Axes3D\n",
    "\n",
    "    n_points = len(X)\n",
    "\n",
    "    # Create figure\n",
    "    fig = plt.figure(figsize=(15, 8))\n",
    "    fig.suptitle(\"Manifold Learning with %i points, %i neighbors\"\n",
    "                 % (1000, n_neighbors), fontsize=14)\n",
    "\n",
    "    # Add 3d scatter plot\n",
    "    ax = fig.add_subplot(251, projection='3d')\n",
    "    ax.scatter(X[:, 0], X[:, 1], X[:, 2], c=color, cmap=plt.cm.Spectral)\n",
    "    ax.view_init(4, -72)\n",
    "\n",
    "    # Set-up manifold methods\n",
    "    LLE = partial(manifold.LocallyLinearEmbedding,\n",
    "                  n_neighbors, n_components, eigen_solver='auto')\n",
    "\n",
    "    methods = OrderedDict()\n",
    "    methods['LLE'] = LLE(method='standard')\n",
    "    methods['LTSA'] = LLE(method='ltsa')\n",
    "    methods['Hessian LLE'] = LLE(method='hessian')\n",
    "    methods['Modified LLE'] = LLE(method='modified')\n",
    "    methods['Isomap'] = manifold.Isomap(n_neighbors, n_components)\n",
    "    methods['MDS'] = manifold.MDS(n_components, max_iter=mds_max_iter, n_init=1)\n",
    "    methods['SE'] = manifold.SpectralEmbedding(n_components=n_components,\n",
    "                                               n_neighbors=n_neighbors)\n",
    "    methods['t-SNE'] = manifold.TSNE(n_components=n_components, init='pca',\n",
    "                                     random_state=0)\n",
    "\n",
    "    # Plot results\n",
    "    for i, (label, method) in enumerate(methods.items()):\n",
    "        t0 = time()\n",
    "        Y = method.fit_transform(X)\n",
    "        t1 = time()\n",
    "        print(\"%s: %.2g sec\" % (label, t1 - t0))\n",
    "        ax = fig.add_subplot(2, 5, 2 + i + (i > 3))\n",
    "        ax.scatter(Y[:, 0], Y[:, 1], c=color, cmap=plt.cm.Spectral)\n",
    "        ax.set_title(\"%s (%.2g sec)\" % (label, t1 - t0))\n",
    "        ax.xaxis.set_major_formatter(NullFormatter())\n",
    "        ax.yaxis.set_major_formatter(NullFormatter())\n",
    "        ax.axis('tight')\n",
    "\n",
    "    plt.show()"
   ]
  },
  {
   "cell_type": "code",
   "execution_count": 20,
   "metadata": {},
   "outputs": [
    {
     "data": {
      "application/vnd.jupyter.widget-view+json": {
       "model_id": "98c486031ed747788768445a55187c57",
       "version_major": 2,
       "version_minor": 0
      },
      "text/plain": [
       "Canvas(toolbar=Toolbar(toolitems=[('Home', 'Reset original view', 'home', 'home'), ('Back', 'Back to previous …"
      ]
     },
     "metadata": {},
     "output_type": "display_data"
    },
    {
     "name": "stderr",
     "output_type": "stream",
     "text": [
      "/home/ajay/miniconda3/envs/clip/lib/python3.8/site-packages/sklearn/utils/validation.py:70: FutureWarning: Pass n_neighbors=10, n_components=2 as keyword args. From version 1.0 (renaming of 0.25) passing these as positional arguments will result in an error\n",
      "  warnings.warn(f\"Pass {args_msg} as keyword args. From version \"\n"
     ]
    },
    {
     "name": "stdout",
     "output_type": "stream",
     "text": [
      "LLE: 0.024 sec\n",
      "LTSA: 0.023 sec\n",
      "Hessian LLE: 0.042 sec\n",
      "Modified LLE: 0.032 sec\n",
      "Isomap: 0.012 sec\n",
      "MDS: 0.036 sec\n",
      "SE: 0.0089 sec\n",
      "t-SNE: 0.33 sec\n"
     ]
    }
   ],
   "source": [
    "dim_reduction(xyz, thetas, n_neighbors=10, n_components=2)"
   ]
  },
  {
   "cell_type": "code",
   "execution_count": 21,
   "metadata": {},
   "outputs": [
    {
     "data": {
      "application/vnd.jupyter.widget-view+json": {
       "model_id": "524b0de4b493401ca429a87242322cdb",
       "version_major": 2,
       "version_minor": 0
      },
      "text/plain": [
       "Canvas(toolbar=Toolbar(toolitems=[('Home', 'Reset original view', 'home', 'home'), ('Back', 'Back to previous …"
      ]
     },
     "metadata": {},
     "output_type": "display_data"
    },
    {
     "name": "stdout",
     "output_type": "stream",
     "text": [
      "LLE: 0.018 sec\n",
      "LTSA: 0.033 sec\n",
      "Hessian LLE: 0.05 sec\n"
     ]
    },
    {
     "name": "stderr",
     "output_type": "stream",
     "text": [
      "/home/ajay/miniconda3/envs/clip/lib/python3.8/site-packages/sklearn/utils/validation.py:70: FutureWarning: Pass n_neighbors=10, n_components=2 as keyword args. From version 1.0 (renaming of 0.25) passing these as positional arguments will result in an error\n",
      "  warnings.warn(f\"Pass {args_msg} as keyword args. From version \"\n"
     ]
    },
    {
     "name": "stdout",
     "output_type": "stream",
     "text": [
      "Modified LLE: 0.041 sec\n",
      "Isomap: 0.011 sec\n",
      "MDS: 0.03 sec\n",
      "SE: 0.0092 sec\n",
      "t-SNE: 0.34 sec\n"
     ]
    }
   ],
   "source": [
    "dim_reduction(poses.flatten(1), thetas, n_neighbors=10, n_components=2)"
   ]
  },
  {
   "cell_type": "code",
   "execution_count": 22,
   "metadata": {},
   "outputs": [
    {
     "data": {
      "application/vnd.jupyter.widget-view+json": {
       "model_id": "324d0c429b1945c1aa05259322ea7e80",
       "version_major": 2,
       "version_minor": 0
      },
      "text/plain": [
       "Canvas(toolbar=Toolbar(toolitems=[('Home', 'Reset original view', 'home', 'home'), ('Back', 'Back to previous …"
      ]
     },
     "metadata": {},
     "output_type": "display_data"
    },
    {
     "name": "stdout",
     "output_type": "stream",
     "text": [
      "LLE: 0.027 sec\n",
      "LTSA: 0.043 sec\n"
     ]
    },
    {
     "name": "stderr",
     "output_type": "stream",
     "text": [
      "/home/ajay/miniconda3/envs/clip/lib/python3.8/site-packages/sklearn/utils/validation.py:70: FutureWarning: Pass n_neighbors=10, n_components=2 as keyword args. From version 1.0 (renaming of 0.25) passing these as positional arguments will result in an error\n",
      "  warnings.warn(f\"Pass {args_msg} as keyword args. From version \"\n"
     ]
    },
    {
     "name": "stdout",
     "output_type": "stream",
     "text": [
      "Hessian LLE: 0.062 sec\n",
      "Modified LLE: 0.061 sec\n",
      "Isomap: 0.014 sec\n",
      "MDS: 0.13 sec\n",
      "SE: 0.013 sec\n",
      "t-SNE: 0.39 sec\n"
     ]
    }
   ],
   "source": [
    "dim_reduction(embedding, thetas, n_neighbors=10, n_components=2, mds_max_iter=1000)"
   ]
  },
  {
   "cell_type": "code",
   "execution_count": 23,
   "metadata": {},
   "outputs": [
    {
     "data": {
      "text/plain": [
       "torch.Size([138, 1024])"
      ]
     },
     "execution_count": 23,
     "metadata": {},
     "output_type": "execute_result"
    }
   ],
   "source": [
    "embedding.shape"
   ]
  },
  {
   "cell_type": "markdown",
   "metadata": {},
   "source": [
    "# Save images"
   ]
  },
  {
   "cell_type": "code",
   "execution_count": 28,
   "metadata": {},
   "outputs": [
    {
     "data": {
      "text/plain": [
       "torch.Size([138, 3, 400, 400])"
      ]
     },
     "execution_count": 28,
     "metadata": {},
     "output_type": "execute_result"
    }
   ],
   "source": [
    "scene_data['images'].shape"
   ]
  },
  {
   "cell_type": "code",
   "execution_count": 29,
   "metadata": {},
   "outputs": [
    {
     "data": {
      "text/plain": [
       "tensor(0., dtype=torch.float64)"
      ]
     },
     "execution_count": 29,
     "metadata": {},
     "output_type": "execute_result"
    }
   ],
   "source": [
    "scene_data['images'].min()"
   ]
  },
  {
   "cell_type": "code",
   "execution_count": 30,
   "metadata": {},
   "outputs": [
    {
     "data": {
      "text/plain": [
       "tensor(1., dtype=torch.float64)"
      ]
     },
     "execution_count": 30,
     "metadata": {},
     "output_type": "execute_result"
    }
   ],
   "source": [
    "scene_data['images'].max()"
   ]
  },
  {
   "cell_type": "code",
   "execution_count": 32,
   "metadata": {},
   "outputs": [],
   "source": [
    "torch.save(scene_data['images'], './logs/probe/images_paper_lego.pth')"
   ]
  },
  {
   "cell_type": "code",
   "execution_count": 33,
   "metadata": {},
   "outputs": [
    {
     "data": {
      "text/plain": [
       "'/data/ajay/clip/nerf/nerf-pytorch'"
      ]
     },
     "execution_count": 33,
     "metadata": {},
     "output_type": "execute_result"
    }
   ],
   "source": [
    "%pwd"
   ]
  },
  {
   "cell_type": "code",
   "execution_count": null,
   "metadata": {},
   "outputs": [],
   "source": []
  }
 ],
 "metadata": {
  "kernelspec": {
   "display_name": "Python 3",
   "language": "python",
   "name": "python3"
  },
  "language_info": {
   "codemirror_mode": {
    "name": "ipython",
    "version": 3
   },
   "file_extension": ".py",
   "mimetype": "text/x-python",
   "name": "python",
   "nbconvert_exporter": "python",
   "pygments_lexer": "ipython3",
   "version": "3.8.5"
  }
 },
 "nbformat": 4,
 "nbformat_minor": 4
}
